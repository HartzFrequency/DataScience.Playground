{
 "cells": [
  {
   "cell_type": "markdown",
   "metadata": {},
   "source": [
    "## spliting the string into different words form space\n"
   ]
  },
  {
   "cell_type": "code",
   "execution_count": 3,
   "metadata": {},
   "outputs": [
    {
     "name": "stdout",
     "output_type": "stream",
     "text": [
      "['harsh', 'is', 'a', 'smart', 'guy'] ['harsh', 'is', 'a', 'smart', 'guy']\n"
     ]
    }
   ],
   "source": [
    "message = \"harsh is a smart guy\"\n",
    "words = message.split(' ') # split from space\n",
    "words2 = message.split() #if we dont specify delimiter white space will be the default delimiter \n",
    "print(words , words2)"
   ]
  },
  {
   "cell_type": "markdown",
   "metadata": {},
   "source": [
    "## custom delimiter\n"
   ]
  },
  {
   "cell_type": "code",
   "execution_count": 4,
   "metadata": {},
   "outputs": [
    {
     "name": "stdout",
     "output_type": "stream",
     "text": [
      "['', 'i i am ', 'ars', ' s', 'rivastava i got so muc', ' rizz']\n"
     ]
    }
   ],
   "source": [
    "message = \"hi i am harsh shrivastava i got so much rizz\"\n",
    "print(message.split('h')) # delimiter is removed and we get multiple string slit by the delimiter"
   ]
  },
  {
   "cell_type": "markdown",
   "metadata": {},
   "source": [
    "# unpacking list into multiple variable and list "
   ]
  },
  {
   "cell_type": "code",
   "execution_count": null,
   "metadata": {},
   "outputs": [],
   "source": [
    "a,b,c, *other = [3413,1231,123,12,2,2,2,2,2,2,2,2]\n",
    "print(a,b,c,other)"
   ]
  },
  {
   "cell_type": "markdown",
   "metadata": {},
   "source": [
    "# Random Value"
   ]
  },
  {
   "cell_type": "code",
   "execution_count": 6,
   "metadata": {},
   "outputs": [
    {
     "name": "stdout",
     "output_type": "stream",
     "text": [
      "0.002461126541776104\n",
      "15\n",
      "0.4788546360014413\n",
      "17\n",
      "0.43850418830264803\n",
      "14\n",
      "abhishek\n"
     ]
    }
   ],
   "source": [
    "import random\n",
    "\n",
    "for i in range(3):\n",
    "    print(random.random())\n",
    "    print(random.randint(10,20))\n",
    "\n",
    "#slecting random value form list\n",
    "members = ['arin', 'akhil', 'saumya','divyat','arshita','abhishek']\n",
    "leader = random.choice(members)\n",
    "print(leader)"
   ]
  }
 ],
 "metadata": {
  "kernelspec": {
   "display_name": "Python 3",
   "language": "python",
   "name": "python3"
  },
  "language_info": {
   "codemirror_mode": {
    "name": "ipython",
    "version": 3
   },
   "file_extension": ".py",
   "mimetype": "text/x-python",
   "name": "python",
   "nbconvert_exporter": "python",
   "pygments_lexer": "ipython3",
   "version": "3.10.8"
  },
  "orig_nbformat": 4
 },
 "nbformat": 4,
 "nbformat_minor": 2
}

{
 "cells": [
  {
   "cell_type": "markdown",
   "metadata": {},
   "source": [
    "# Pandas\n",
    "ref: code with harry"
   ]
  },
  {
   "cell_type": "code",
   "execution_count": 2,
   "metadata": {},
   "outputs": [],
   "source": [
    "import numpy as np\n",
    "import pandas as pd"
   ]
  },
  {
   "cell_type": "code",
   "execution_count": 3,
   "metadata": {},
   "outputs": [],
   "source": [
    "dict1 = {\n",
    "    \"name\":['harsh','hani','harshit'],\n",
    "    \"marks\":[100,58,91],\n",
    "    \"city\":['Rampur','kolkata','dholpur']\n",
    "}"
   ]
  },
  {
   "cell_type": "code",
   "execution_count": 4,
   "metadata": {},
   "outputs": [
    {
     "data": {
      "text/html": [
       "<div>\n",
       "<style scoped>\n",
       "    .dataframe tbody tr th:only-of-type {\n",
       "        vertical-align: middle;\n",
       "    }\n",
       "\n",
       "    .dataframe tbody tr th {\n",
       "        vertical-align: top;\n",
       "    }\n",
       "\n",
       "    .dataframe thead th {\n",
       "        text-align: right;\n",
       "    }\n",
       "</style>\n",
       "<table border=\"1\" class=\"dataframe\">\n",
       "  <thead>\n",
       "    <tr style=\"text-align: right;\">\n",
       "      <th></th>\n",
       "      <th>name</th>\n",
       "      <th>marks</th>\n",
       "      <th>city</th>\n",
       "    </tr>\n",
       "  </thead>\n",
       "  <tbody>\n",
       "    <tr>\n",
       "      <th>0</th>\n",
       "      <td>harsh</td>\n",
       "      <td>100</td>\n",
       "      <td>Rampur</td>\n",
       "    </tr>\n",
       "    <tr>\n",
       "      <th>1</th>\n",
       "      <td>hani</td>\n",
       "      <td>58</td>\n",
       "      <td>kolkata</td>\n",
       "    </tr>\n",
       "    <tr>\n",
       "      <th>2</th>\n",
       "      <td>harshit</td>\n",
       "      <td>91</td>\n",
       "      <td>dholpur</td>\n",
       "    </tr>\n",
       "  </tbody>\n",
       "</table>\n",
       "</div>"
      ],
      "text/plain": [
       "      name  marks     city\n",
       "0    harsh    100   Rampur\n",
       "1     hani     58  kolkata\n",
       "2  harshit     91  dholpur"
      ]
     },
     "execution_count": 4,
     "metadata": {},
     "output_type": "execute_result"
    }
   ],
   "source": [
    "df = pd.DataFrame(dict1)\n",
    "df"
   ]
  },
  {
   "cell_type": "code",
   "execution_count": 5,
   "metadata": {},
   "outputs": [],
   "source": [
    "df.to_csv('Learning_pandas.csv')"
   ]
  },
  {
   "cell_type": "code",
   "execution_count": 6,
   "metadata": {},
   "outputs": [],
   "source": [
    "df.to_csv('Learning_pandas_IndexFalse.csv', index = False)"
   ]
  },
  {
   "cell_type": "code",
   "execution_count": 7,
   "metadata": {},
   "outputs": [
    {
     "data": {
      "text/html": [
       "<div>\n",
       "<style scoped>\n",
       "    .dataframe tbody tr th:only-of-type {\n",
       "        vertical-align: middle;\n",
       "    }\n",
       "\n",
       "    .dataframe tbody tr th {\n",
       "        vertical-align: top;\n",
       "    }\n",
       "\n",
       "    .dataframe thead th {\n",
       "        text-align: right;\n",
       "    }\n",
       "</style>\n",
       "<table border=\"1\" class=\"dataframe\">\n",
       "  <thead>\n",
       "    <tr style=\"text-align: right;\">\n",
       "      <th></th>\n",
       "      <th>name</th>\n",
       "      <th>marks</th>\n",
       "      <th>city</th>\n",
       "    </tr>\n",
       "  </thead>\n",
       "  <tbody>\n",
       "    <tr>\n",
       "      <th>1</th>\n",
       "      <td>hani</td>\n",
       "      <td>58</td>\n",
       "      <td>kolkata</td>\n",
       "    </tr>\n",
       "    <tr>\n",
       "      <th>2</th>\n",
       "      <td>harshit</td>\n",
       "      <td>91</td>\n",
       "      <td>dholpur</td>\n",
       "    </tr>\n",
       "  </tbody>\n",
       "</table>\n",
       "</div>"
      ],
      "text/plain": [
       "      name  marks     city\n",
       "1     hani     58  kolkata\n",
       "2  harshit     91  dholpur"
      ]
     },
     "execution_count": 7,
     "metadata": {},
     "output_type": "execute_result"
    }
   ],
   "source": [
    "df.head(2) #first two data\n",
    "df.tail(2) #last two data"
   ]
  },
  {
   "cell_type": "code",
   "execution_count": 8,
   "metadata": {},
   "outputs": [
    {
     "data": {
      "text/html": [
       "<div>\n",
       "<style scoped>\n",
       "    .dataframe tbody tr th:only-of-type {\n",
       "        vertical-align: middle;\n",
       "    }\n",
       "\n",
       "    .dataframe tbody tr th {\n",
       "        vertical-align: top;\n",
       "    }\n",
       "\n",
       "    .dataframe thead th {\n",
       "        text-align: right;\n",
       "    }\n",
       "</style>\n",
       "<table border=\"1\" class=\"dataframe\">\n",
       "  <thead>\n",
       "    <tr style=\"text-align: right;\">\n",
       "      <th></th>\n",
       "      <th>marks</th>\n",
       "    </tr>\n",
       "  </thead>\n",
       "  <tbody>\n",
       "    <tr>\n",
       "      <th>count</th>\n",
       "      <td>3.000000</td>\n",
       "    </tr>\n",
       "    <tr>\n",
       "      <th>mean</th>\n",
       "      <td>83.000000</td>\n",
       "    </tr>\n",
       "    <tr>\n",
       "      <th>std</th>\n",
       "      <td>22.113344</td>\n",
       "    </tr>\n",
       "    <tr>\n",
       "      <th>min</th>\n",
       "      <td>58.000000</td>\n",
       "    </tr>\n",
       "    <tr>\n",
       "      <th>25%</th>\n",
       "      <td>74.500000</td>\n",
       "    </tr>\n",
       "    <tr>\n",
       "      <th>50%</th>\n",
       "      <td>91.000000</td>\n",
       "    </tr>\n",
       "    <tr>\n",
       "      <th>75%</th>\n",
       "      <td>95.500000</td>\n",
       "    </tr>\n",
       "    <tr>\n",
       "      <th>max</th>\n",
       "      <td>100.000000</td>\n",
       "    </tr>\n",
       "  </tbody>\n",
       "</table>\n",
       "</div>"
      ],
      "text/plain": [
       "            marks\n",
       "count    3.000000\n",
       "mean    83.000000\n",
       "std     22.113344\n",
       "min     58.000000\n",
       "25%     74.500000\n",
       "50%     91.000000\n",
       "75%     95.500000\n",
       "max    100.000000"
      ]
     },
     "execution_count": 8,
     "metadata": {},
     "output_type": "execute_result"
    }
   ],
   "source": [
    "df.describe()"
   ]
  },
  {
   "cell_type": "code",
   "execution_count": 9,
   "metadata": {},
   "outputs": [
    {
     "data": {
      "text/html": [
       "<div>\n",
       "<style scoped>\n",
       "    .dataframe tbody tr th:only-of-type {\n",
       "        vertical-align: middle;\n",
       "    }\n",
       "\n",
       "    .dataframe tbody tr th {\n",
       "        vertical-align: top;\n",
       "    }\n",
       "\n",
       "    .dataframe thead th {\n",
       "        text-align: right;\n",
       "    }\n",
       "</style>\n",
       "<table border=\"1\" class=\"dataframe\">\n",
       "  <thead>\n",
       "    <tr style=\"text-align: right;\">\n",
       "      <th></th>\n",
       "      <th>Unnamed: 0</th>\n",
       "      <th>Train no</th>\n",
       "      <th>Speed</th>\n",
       "      <th>City</th>\n",
       "    </tr>\n",
       "  </thead>\n",
       "  <tbody>\n",
       "    <tr>\n",
       "      <th>0</th>\n",
       "      <td>0</td>\n",
       "      <td>12322</td>\n",
       "      <td>100</td>\n",
       "      <td>Rampur</td>\n",
       "    </tr>\n",
       "    <tr>\n",
       "      <th>1</th>\n",
       "      <td>1</td>\n",
       "      <td>12534</td>\n",
       "      <td>123</td>\n",
       "      <td>kolkata</td>\n",
       "    </tr>\n",
       "    <tr>\n",
       "      <th>2</th>\n",
       "      <td>2</td>\n",
       "      <td>125654</td>\n",
       "      <td>67</td>\n",
       "      <td>dholpur</td>\n",
       "    </tr>\n",
       "    <tr>\n",
       "      <th>3</th>\n",
       "      <td>3</td>\n",
       "      <td>564523</td>\n",
       "      <td>87</td>\n",
       "      <td>gwalior</td>\n",
       "    </tr>\n",
       "  </tbody>\n",
       "</table>\n",
       "</div>"
      ],
      "text/plain": [
       "   Unnamed: 0  Train no  Speed     City\n",
       "0           0     12322    100   Rampur\n",
       "1           1     12534    123  kolkata\n",
       "2           2    125654     67  dholpur\n",
       "3           3    564523     87  gwalior"
      ]
     },
     "execution_count": 9,
     "metadata": {},
     "output_type": "execute_result"
    }
   ],
   "source": [
    "data = pd.read_csv('Train_data.csv')\n",
    "data"
   ]
  },
  {
   "cell_type": "code",
   "execution_count": 10,
   "metadata": {},
   "outputs": [
    {
     "data": {
      "text/plain": [
       "0    100\n",
       "1    123\n",
       "2     67\n",
       "3     87\n",
       "Name: Speed, dtype: int64"
      ]
     },
     "execution_count": 10,
     "metadata": {},
     "output_type": "execute_result"
    }
   ],
   "source": [
    "data['Speed']"
   ]
  },
  {
   "cell_type": "code",
   "execution_count": 11,
   "metadata": {},
   "outputs": [
    {
     "data": {
      "text/plain": [
       "100"
      ]
     },
     "execution_count": 11,
     "metadata": {},
     "output_type": "execute_result"
    }
   ],
   "source": [
    "data['Speed'][0]"
   ]
  },
  {
   "cell_type": "code",
   "execution_count": 12,
   "metadata": {},
   "outputs": [
    {
     "name": "stderr",
     "output_type": "stream",
     "text": [
      "C:\\Users\\harsh\\AppData\\Local\\Temp\\ipykernel_30328\\2189471887.py:1: SettingWithCopyWarning: \n",
      "A value is trying to be set on a copy of a slice from a DataFrame\n",
      "\n",
      "See the caveats in the documentation: https://pandas.pydata.org/pandas-docs/stable/user_guide/indexing.html#returning-a-view-versus-a-copy\n",
      "  data['Speed'][0]= 100\n"
     ]
    },
    {
     "data": {
      "text/html": [
       "<div>\n",
       "<style scoped>\n",
       "    .dataframe tbody tr th:only-of-type {\n",
       "        vertical-align: middle;\n",
       "    }\n",
       "\n",
       "    .dataframe tbody tr th {\n",
       "        vertical-align: top;\n",
       "    }\n",
       "\n",
       "    .dataframe thead th {\n",
       "        text-align: right;\n",
       "    }\n",
       "</style>\n",
       "<table border=\"1\" class=\"dataframe\">\n",
       "  <thead>\n",
       "    <tr style=\"text-align: right;\">\n",
       "      <th></th>\n",
       "      <th>Unnamed: 0</th>\n",
       "      <th>Train no</th>\n",
       "      <th>Speed</th>\n",
       "      <th>City</th>\n",
       "    </tr>\n",
       "  </thead>\n",
       "  <tbody>\n",
       "    <tr>\n",
       "      <th>0</th>\n",
       "      <td>0</td>\n",
       "      <td>12322</td>\n",
       "      <td>100</td>\n",
       "      <td>Rampur</td>\n",
       "    </tr>\n",
       "    <tr>\n",
       "      <th>1</th>\n",
       "      <td>1</td>\n",
       "      <td>12534</td>\n",
       "      <td>123</td>\n",
       "      <td>kolkata</td>\n",
       "    </tr>\n",
       "    <tr>\n",
       "      <th>2</th>\n",
       "      <td>2</td>\n",
       "      <td>125654</td>\n",
       "      <td>67</td>\n",
       "      <td>dholpur</td>\n",
       "    </tr>\n",
       "    <tr>\n",
       "      <th>3</th>\n",
       "      <td>3</td>\n",
       "      <td>564523</td>\n",
       "      <td>87</td>\n",
       "      <td>gwalior</td>\n",
       "    </tr>\n",
       "  </tbody>\n",
       "</table>\n",
       "</div>"
      ],
      "text/plain": [
       "   Unnamed: 0  Train no  Speed     City\n",
       "0           0     12322    100   Rampur\n",
       "1           1     12534    123  kolkata\n",
       "2           2    125654     67  dholpur\n",
       "3           3    564523     87  gwalior"
      ]
     },
     "execution_count": 12,
     "metadata": {},
     "output_type": "execute_result"
    }
   ],
   "source": [
    "data['Speed'][0]= 100\n",
    "data"
   ]
  },
  {
   "cell_type": "code",
   "execution_count": 13,
   "metadata": {},
   "outputs": [],
   "source": [
    "data.to_csv('Train_data.csv')"
   ]
  },
  {
   "cell_type": "code",
   "execution_count": 14,
   "metadata": {},
   "outputs": [
    {
     "data": {
      "text/html": [
       "<div>\n",
       "<style scoped>\n",
       "    .dataframe tbody tr th:only-of-type {\n",
       "        vertical-align: middle;\n",
       "    }\n",
       "\n",
       "    .dataframe tbody tr th {\n",
       "        vertical-align: top;\n",
       "    }\n",
       "\n",
       "    .dataframe thead th {\n",
       "        text-align: right;\n",
       "    }\n",
       "</style>\n",
       "<table border=\"1\" class=\"dataframe\">\n",
       "  <thead>\n",
       "    <tr style=\"text-align: right;\">\n",
       "      <th></th>\n",
       "      <th>Unnamed: 0</th>\n",
       "      <th>Train no</th>\n",
       "      <th>Speed</th>\n",
       "      <th>City</th>\n",
       "    </tr>\n",
       "  </thead>\n",
       "  <tbody>\n",
       "    <tr>\n",
       "      <th>first</th>\n",
       "      <td>0</td>\n",
       "      <td>12322</td>\n",
       "      <td>100</td>\n",
       "      <td>Rampur</td>\n",
       "    </tr>\n",
       "    <tr>\n",
       "      <th>second</th>\n",
       "      <td>1</td>\n",
       "      <td>12534</td>\n",
       "      <td>123</td>\n",
       "      <td>kolkata</td>\n",
       "    </tr>\n",
       "    <tr>\n",
       "      <th>third</th>\n",
       "      <td>2</td>\n",
       "      <td>125654</td>\n",
       "      <td>67</td>\n",
       "      <td>dholpur</td>\n",
       "    </tr>\n",
       "    <tr>\n",
       "      <th>fourth</th>\n",
       "      <td>3</td>\n",
       "      <td>564523</td>\n",
       "      <td>87</td>\n",
       "      <td>gwalior</td>\n",
       "    </tr>\n",
       "  </tbody>\n",
       "</table>\n",
       "</div>"
      ],
      "text/plain": [
       "        Unnamed: 0  Train no  Speed     City\n",
       "first            0     12322    100   Rampur\n",
       "second           1     12534    123  kolkata\n",
       "third            2    125654     67  dholpur\n",
       "fourth           3    564523     87  gwalior"
      ]
     },
     "execution_count": 14,
     "metadata": {},
     "output_type": "execute_result"
    }
   ],
   "source": [
    "data.index = ['first','second','third','fourth']\n",
    "data"
   ]
  },
  {
   "cell_type": "code",
   "execution_count": 15,
   "metadata": {},
   "outputs": [],
   "source": [
    "data.to_csv('Train_data.csv')"
   ]
  },
  {
   "cell_type": "markdown",
   "metadata": {},
   "source": [
    "pandas has two type of data structures \n",
    "1. Series: 1D array\n",
    "2. Dataframes: tabular spread sheet like data structure"
   ]
  },
  {
   "cell_type": "code",
   "execution_count": 18,
   "metadata": {},
   "outputs": [
    {
     "data": {
      "text/plain": [
       "pandas.core.series.Series"
      ]
     },
     "execution_count": 18,
     "metadata": {},
     "output_type": "execute_result"
    }
   ],
   "source": [
    "ser = pd.Series(np.random.rand(34))\n",
    "type(ser)"
   ]
  },
  {
   "cell_type": "code",
   "execution_count": 19,
   "metadata": {},
   "outputs": [
    {
     "data": {
      "text/html": [
       "<div>\n",
       "<style scoped>\n",
       "    .dataframe tbody tr th:only-of-type {\n",
       "        vertical-align: middle;\n",
       "    }\n",
       "\n",
       "    .dataframe tbody tr th {\n",
       "        vertical-align: top;\n",
       "    }\n",
       "\n",
       "    .dataframe thead th {\n",
       "        text-align: right;\n",
       "    }\n",
       "</style>\n",
       "<table border=\"1\" class=\"dataframe\">\n",
       "  <thead>\n",
       "    <tr style=\"text-align: right;\">\n",
       "      <th></th>\n",
       "      <th>0</th>\n",
       "      <th>1</th>\n",
       "      <th>2</th>\n",
       "      <th>3</th>\n",
       "      <th>4</th>\n",
       "    </tr>\n",
       "  </thead>\n",
       "  <tbody>\n",
       "    <tr>\n",
       "      <th>0</th>\n",
       "      <td>0.733352</td>\n",
       "      <td>0.574815</td>\n",
       "      <td>0.538166</td>\n",
       "      <td>0.116689</td>\n",
       "      <td>0.699887</td>\n",
       "    </tr>\n",
       "    <tr>\n",
       "      <th>1</th>\n",
       "      <td>0.080403</td>\n",
       "      <td>0.242076</td>\n",
       "      <td>0.643896</td>\n",
       "      <td>0.412260</td>\n",
       "      <td>0.790391</td>\n",
       "    </tr>\n",
       "    <tr>\n",
       "      <th>2</th>\n",
       "      <td>0.483287</td>\n",
       "      <td>0.878785</td>\n",
       "      <td>0.578462</td>\n",
       "      <td>0.099546</td>\n",
       "      <td>0.528282</td>\n",
       "    </tr>\n",
       "    <tr>\n",
       "      <th>3</th>\n",
       "      <td>0.432857</td>\n",
       "      <td>0.994903</td>\n",
       "      <td>0.638404</td>\n",
       "      <td>0.814692</td>\n",
       "      <td>0.176334</td>\n",
       "    </tr>\n",
       "    <tr>\n",
       "      <th>4</th>\n",
       "      <td>0.975439</td>\n",
       "      <td>0.395670</td>\n",
       "      <td>0.110242</td>\n",
       "      <td>0.627980</td>\n",
       "      <td>0.617755</td>\n",
       "    </tr>\n",
       "    <tr>\n",
       "      <th>...</th>\n",
       "      <td>...</td>\n",
       "      <td>...</td>\n",
       "      <td>...</td>\n",
       "      <td>...</td>\n",
       "      <td>...</td>\n",
       "    </tr>\n",
       "    <tr>\n",
       "      <th>329</th>\n",
       "      <td>0.017893</td>\n",
       "      <td>0.795698</td>\n",
       "      <td>0.699419</td>\n",
       "      <td>0.921414</td>\n",
       "      <td>0.643540</td>\n",
       "    </tr>\n",
       "    <tr>\n",
       "      <th>330</th>\n",
       "      <td>0.090897</td>\n",
       "      <td>0.584191</td>\n",
       "      <td>0.874407</td>\n",
       "      <td>0.216312</td>\n",
       "      <td>0.529868</td>\n",
       "    </tr>\n",
       "    <tr>\n",
       "      <th>331</th>\n",
       "      <td>0.045063</td>\n",
       "      <td>0.611423</td>\n",
       "      <td>0.219544</td>\n",
       "      <td>0.669319</td>\n",
       "      <td>0.342805</td>\n",
       "    </tr>\n",
       "    <tr>\n",
       "      <th>332</th>\n",
       "      <td>0.976453</td>\n",
       "      <td>0.224766</td>\n",
       "      <td>0.087656</td>\n",
       "      <td>0.194315</td>\n",
       "      <td>0.074177</td>\n",
       "    </tr>\n",
       "    <tr>\n",
       "      <th>333</th>\n",
       "      <td>0.275267</td>\n",
       "      <td>0.402811</td>\n",
       "      <td>0.655725</td>\n",
       "      <td>0.714409</td>\n",
       "      <td>0.480700</td>\n",
       "    </tr>\n",
       "  </tbody>\n",
       "</table>\n",
       "<p>334 rows × 5 columns</p>\n",
       "</div>"
      ],
      "text/plain": [
       "            0         1         2         3         4\n",
       "0    0.733352  0.574815  0.538166  0.116689  0.699887\n",
       "1    0.080403  0.242076  0.643896  0.412260  0.790391\n",
       "2    0.483287  0.878785  0.578462  0.099546  0.528282\n",
       "3    0.432857  0.994903  0.638404  0.814692  0.176334\n",
       "4    0.975439  0.395670  0.110242  0.627980  0.617755\n",
       "..        ...       ...       ...       ...       ...\n",
       "329  0.017893  0.795698  0.699419  0.921414  0.643540\n",
       "330  0.090897  0.584191  0.874407  0.216312  0.529868\n",
       "331  0.045063  0.611423  0.219544  0.669319  0.342805\n",
       "332  0.976453  0.224766  0.087656  0.194315  0.074177\n",
       "333  0.275267  0.402811  0.655725  0.714409  0.480700\n",
       "\n",
       "[334 rows x 5 columns]"
      ]
     },
     "execution_count": 19,
     "metadata": {},
     "output_type": "execute_result"
    }
   ],
   "source": [
    "newdf = pd.DataFrame(np.random.rand(334,5), index = np.arange(334))\n",
    "newdf"
   ]
  },
  {
   "cell_type": "code",
   "execution_count": 20,
   "metadata": {},
   "outputs": [
    {
     "data": {
      "text/plain": [
       "pandas.core.frame.DataFrame"
      ]
     },
     "execution_count": 20,
     "metadata": {},
     "output_type": "execute_result"
    }
   ],
   "source": [
    "type(newdf)"
   ]
  },
  {
   "cell_type": "code",
   "execution_count": 21,
   "metadata": {},
   "outputs": [
    {
     "data": {
      "text/html": [
       "<div>\n",
       "<style scoped>\n",
       "    .dataframe tbody tr th:only-of-type {\n",
       "        vertical-align: middle;\n",
       "    }\n",
       "\n",
       "    .dataframe tbody tr th {\n",
       "        vertical-align: top;\n",
       "    }\n",
       "\n",
       "    .dataframe thead th {\n",
       "        text-align: right;\n",
       "    }\n",
       "</style>\n",
       "<table border=\"1\" class=\"dataframe\">\n",
       "  <thead>\n",
       "    <tr style=\"text-align: right;\">\n",
       "      <th></th>\n",
       "      <th>0</th>\n",
       "      <th>1</th>\n",
       "      <th>2</th>\n",
       "      <th>3</th>\n",
       "      <th>4</th>\n",
       "    </tr>\n",
       "  </thead>\n",
       "  <tbody>\n",
       "    <tr>\n",
       "      <th>count</th>\n",
       "      <td>334.000000</td>\n",
       "      <td>334.000000</td>\n",
       "      <td>334.000000</td>\n",
       "      <td>334.000000</td>\n",
       "      <td>334.000000</td>\n",
       "    </tr>\n",
       "    <tr>\n",
       "      <th>mean</th>\n",
       "      <td>0.480068</td>\n",
       "      <td>0.498610</td>\n",
       "      <td>0.523062</td>\n",
       "      <td>0.493296</td>\n",
       "      <td>0.497099</td>\n",
       "    </tr>\n",
       "    <tr>\n",
       "      <th>std</th>\n",
       "      <td>0.289549</td>\n",
       "      <td>0.291519</td>\n",
       "      <td>0.286534</td>\n",
       "      <td>0.280273</td>\n",
       "      <td>0.285276</td>\n",
       "    </tr>\n",
       "    <tr>\n",
       "      <th>min</th>\n",
       "      <td>0.004593</td>\n",
       "      <td>0.005833</td>\n",
       "      <td>0.002713</td>\n",
       "      <td>0.001848</td>\n",
       "      <td>0.015047</td>\n",
       "    </tr>\n",
       "    <tr>\n",
       "      <th>25%</th>\n",
       "      <td>0.232689</td>\n",
       "      <td>0.244759</td>\n",
       "      <td>0.269059</td>\n",
       "      <td>0.257042</td>\n",
       "      <td>0.242569</td>\n",
       "    </tr>\n",
       "    <tr>\n",
       "      <th>50%</th>\n",
       "      <td>0.460512</td>\n",
       "      <td>0.493114</td>\n",
       "      <td>0.533729</td>\n",
       "      <td>0.467714</td>\n",
       "      <td>0.500282</td>\n",
       "    </tr>\n",
       "    <tr>\n",
       "      <th>75%</th>\n",
       "      <td>0.727533</td>\n",
       "      <td>0.755213</td>\n",
       "      <td>0.784611</td>\n",
       "      <td>0.734324</td>\n",
       "      <td>0.727029</td>\n",
       "    </tr>\n",
       "    <tr>\n",
       "      <th>max</th>\n",
       "      <td>0.996746</td>\n",
       "      <td>0.999428</td>\n",
       "      <td>0.997078</td>\n",
       "      <td>0.997752</td>\n",
       "      <td>0.989904</td>\n",
       "    </tr>\n",
       "  </tbody>\n",
       "</table>\n",
       "</div>"
      ],
      "text/plain": [
       "                0           1           2           3           4\n",
       "count  334.000000  334.000000  334.000000  334.000000  334.000000\n",
       "mean     0.480068    0.498610    0.523062    0.493296    0.497099\n",
       "std      0.289549    0.291519    0.286534    0.280273    0.285276\n",
       "min      0.004593    0.005833    0.002713    0.001848    0.015047\n",
       "25%      0.232689    0.244759    0.269059    0.257042    0.242569\n",
       "50%      0.460512    0.493114    0.533729    0.467714    0.500282\n",
       "75%      0.727533    0.755213    0.784611    0.734324    0.727029\n",
       "max      0.996746    0.999428    0.997078    0.997752    0.989904"
      ]
     },
     "execution_count": 21,
     "metadata": {},
     "output_type": "execute_result"
    }
   ],
   "source": [
    "newdf.describe()"
   ]
  },
  {
   "cell_type": "code",
   "execution_count": 22,
   "metadata": {},
   "outputs": [
    {
     "data": {
      "text/plain": [
       "0    float64\n",
       "1    float64\n",
       "2    float64\n",
       "3    float64\n",
       "4    float64\n",
       "dtype: object"
      ]
     },
     "execution_count": 22,
     "metadata": {},
     "output_type": "execute_result"
    }
   ],
   "source": [
    "newdf.dtypes"
   ]
  },
  {
   "cell_type": "code",
   "execution_count": 23,
   "metadata": {},
   "outputs": [
    {
     "name": "stderr",
     "output_type": "stream",
     "text": [
      "C:\\Users\\harsh\\AppData\\Local\\Temp\\ipykernel_30328\\687807849.py:1: FutureWarning: Setting an item of incompatible dtype is deprecated and will raise in a future error of pandas. Value 'harsh' has dtype incompatible with float64, please explicitly cast to a compatible dtype first.\n",
      "  newdf[0][0]= 'harsh'\n"
     ]
    }
   ],
   "source": [
    "newdf[0][0]= 'harsh'"
   ]
  },
  {
   "cell_type": "code",
   "execution_count": 24,
   "metadata": {},
   "outputs": [
    {
     "data": {
      "text/plain": [
       "0     object\n",
       "1    float64\n",
       "2    float64\n",
       "3    float64\n",
       "4    float64\n",
       "dtype: object"
      ]
     },
     "execution_count": 24,
     "metadata": {},
     "output_type": "execute_result"
    }
   ],
   "source": [
    "newdf.dtypes"
   ]
  },
  {
   "cell_type": "code",
   "execution_count": 25,
   "metadata": {},
   "outputs": [
    {
     "data": {
      "text/plain": [
       "Index([  0,   1,   2,   3,   4,   5,   6,   7,   8,   9,\n",
       "       ...\n",
       "       324, 325, 326, 327, 328, 329, 330, 331, 332, 333],\n",
       "      dtype='int32', length=334)"
      ]
     },
     "execution_count": 25,
     "metadata": {},
     "output_type": "execute_result"
    }
   ],
   "source": [
    "newdf.index"
   ]
  },
  {
   "cell_type": "code",
   "execution_count": 26,
   "metadata": {},
   "outputs": [
    {
     "data": {
      "text/plain": [
       "RangeIndex(start=0, stop=5, step=1)"
      ]
     },
     "execution_count": 26,
     "metadata": {},
     "output_type": "execute_result"
    }
   ],
   "source": [
    "newdf.columns"
   ]
  },
  {
   "cell_type": "code",
   "execution_count": 28,
   "metadata": {},
   "outputs": [
    {
     "data": {
      "text/plain": [
       "array([['harsh', 0.5748147773043275, 0.538166223898115,\n",
       "        0.11668898175504716, 0.6998871928862739],\n",
       "       [0.0804029706862206, 0.24207642306722377, 0.6438955787102314,\n",
       "        0.4122599030300176, 0.7903908546552326],\n",
       "       [0.48328749382786074, 0.8787851432789862, 0.5784621718485413,\n",
       "        0.09954626773466257, 0.5282818145340306],\n",
       "       ...,\n",
       "       [0.04506305300067559, 0.6114229378127994, 0.21954395084577671,\n",
       "        0.6693192648038008, 0.34280493983066507],\n",
       "       [0.9764532630754699, 0.22476583561785723, 0.08765642736610613,\n",
       "        0.19431533833336423, 0.07417677034112735],\n",
       "       [0.27526711921905045, 0.4028110864681531, 0.6557253020962932,\n",
       "        0.7144092691966278, 0.48069963424364004]], dtype=object)"
      ]
     },
     "execution_count": 28,
     "metadata": {},
     "output_type": "execute_result"
    }
   ],
   "source": [
    "newdf.to_numpy()"
   ]
  },
  {
   "cell_type": "code",
   "execution_count": 30,
   "metadata": {},
   "outputs": [],
   "source": [
    "newdf[0][0]= 0.111"
   ]
  },
  {
   "cell_type": "code",
   "execution_count": 31,
   "metadata": {},
   "outputs": [
    {
     "data": {
      "text/html": [
       "<div>\n",
       "<style scoped>\n",
       "    .dataframe tbody tr th:only-of-type {\n",
       "        vertical-align: middle;\n",
       "    }\n",
       "\n",
       "    .dataframe tbody tr th {\n",
       "        vertical-align: top;\n",
       "    }\n",
       "\n",
       "    .dataframe thead th {\n",
       "        text-align: right;\n",
       "    }\n",
       "</style>\n",
       "<table border=\"1\" class=\"dataframe\">\n",
       "  <thead>\n",
       "    <tr style=\"text-align: right;\">\n",
       "      <th></th>\n",
       "      <th>0</th>\n",
       "      <th>1</th>\n",
       "      <th>2</th>\n",
       "      <th>3</th>\n",
       "      <th>4</th>\n",
       "    </tr>\n",
       "  </thead>\n",
       "  <tbody>\n",
       "    <tr>\n",
       "      <th>0</th>\n",
       "      <td>0.111</td>\n",
       "      <td>0.574815</td>\n",
       "      <td>0.538166</td>\n",
       "      <td>0.116689</td>\n",
       "      <td>0.699887</td>\n",
       "    </tr>\n",
       "    <tr>\n",
       "      <th>1</th>\n",
       "      <td>0.080403</td>\n",
       "      <td>0.242076</td>\n",
       "      <td>0.643896</td>\n",
       "      <td>0.412260</td>\n",
       "      <td>0.790391</td>\n",
       "    </tr>\n",
       "    <tr>\n",
       "      <th>2</th>\n",
       "      <td>0.483287</td>\n",
       "      <td>0.878785</td>\n",
       "      <td>0.578462</td>\n",
       "      <td>0.099546</td>\n",
       "      <td>0.528282</td>\n",
       "    </tr>\n",
       "    <tr>\n",
       "      <th>3</th>\n",
       "      <td>0.432857</td>\n",
       "      <td>0.994903</td>\n",
       "      <td>0.638404</td>\n",
       "      <td>0.814692</td>\n",
       "      <td>0.176334</td>\n",
       "    </tr>\n",
       "    <tr>\n",
       "      <th>4</th>\n",
       "      <td>0.975439</td>\n",
       "      <td>0.395670</td>\n",
       "      <td>0.110242</td>\n",
       "      <td>0.627980</td>\n",
       "      <td>0.617755</td>\n",
       "    </tr>\n",
       "  </tbody>\n",
       "</table>\n",
       "</div>"
      ],
      "text/plain": [
       "          0         1         2         3         4\n",
       "0     0.111  0.574815  0.538166  0.116689  0.699887\n",
       "1  0.080403  0.242076  0.643896  0.412260  0.790391\n",
       "2  0.483287  0.878785  0.578462  0.099546  0.528282\n",
       "3  0.432857  0.994903  0.638404  0.814692  0.176334\n",
       "4  0.975439  0.395670  0.110242  0.627980  0.617755"
      ]
     },
     "execution_count": 31,
     "metadata": {},
     "output_type": "execute_result"
    }
   ],
   "source": [
    "newdf.head()"
   ]
  },
  {
   "cell_type": "markdown",
   "metadata": {},
   "source": [
    "### Transposing"
   ]
  },
  {
   "cell_type": "code",
   "execution_count": 32,
   "metadata": {},
   "outputs": [
    {
     "data": {
      "text/html": [
       "<div>\n",
       "<style scoped>\n",
       "    .dataframe tbody tr th:only-of-type {\n",
       "        vertical-align: middle;\n",
       "    }\n",
       "\n",
       "    .dataframe tbody tr th {\n",
       "        vertical-align: top;\n",
       "    }\n",
       "\n",
       "    .dataframe thead th {\n",
       "        text-align: right;\n",
       "    }\n",
       "</style>\n",
       "<table border=\"1\" class=\"dataframe\">\n",
       "  <thead>\n",
       "    <tr style=\"text-align: right;\">\n",
       "      <th></th>\n",
       "      <th>0</th>\n",
       "      <th>1</th>\n",
       "      <th>2</th>\n",
       "      <th>3</th>\n",
       "      <th>4</th>\n",
       "      <th>5</th>\n",
       "      <th>6</th>\n",
       "      <th>7</th>\n",
       "      <th>8</th>\n",
       "      <th>9</th>\n",
       "      <th>...</th>\n",
       "      <th>324</th>\n",
       "      <th>325</th>\n",
       "      <th>326</th>\n",
       "      <th>327</th>\n",
       "      <th>328</th>\n",
       "      <th>329</th>\n",
       "      <th>330</th>\n",
       "      <th>331</th>\n",
       "      <th>332</th>\n",
       "      <th>333</th>\n",
       "    </tr>\n",
       "  </thead>\n",
       "  <tbody>\n",
       "    <tr>\n",
       "      <th>0</th>\n",
       "      <td>0.111</td>\n",
       "      <td>0.080403</td>\n",
       "      <td>0.483287</td>\n",
       "      <td>0.432857</td>\n",
       "      <td>0.975439</td>\n",
       "      <td>0.391951</td>\n",
       "      <td>0.877127</td>\n",
       "      <td>0.04715</td>\n",
       "      <td>0.214523</td>\n",
       "      <td>0.023785</td>\n",
       "      <td>...</td>\n",
       "      <td>0.701285</td>\n",
       "      <td>0.20853</td>\n",
       "      <td>0.157154</td>\n",
       "      <td>0.080031</td>\n",
       "      <td>0.372745</td>\n",
       "      <td>0.017893</td>\n",
       "      <td>0.090897</td>\n",
       "      <td>0.045063</td>\n",
       "      <td>0.976453</td>\n",
       "      <td>0.275267</td>\n",
       "    </tr>\n",
       "    <tr>\n",
       "      <th>1</th>\n",
       "      <td>0.574815</td>\n",
       "      <td>0.242076</td>\n",
       "      <td>0.878785</td>\n",
       "      <td>0.994903</td>\n",
       "      <td>0.39567</td>\n",
       "      <td>0.814133</td>\n",
       "      <td>0.999428</td>\n",
       "      <td>0.472724</td>\n",
       "      <td>0.985837</td>\n",
       "      <td>0.553832</td>\n",
       "      <td>...</td>\n",
       "      <td>0.091088</td>\n",
       "      <td>0.783534</td>\n",
       "      <td>0.863422</td>\n",
       "      <td>0.802006</td>\n",
       "      <td>0.494876</td>\n",
       "      <td>0.795698</td>\n",
       "      <td>0.584191</td>\n",
       "      <td>0.611423</td>\n",
       "      <td>0.224766</td>\n",
       "      <td>0.402811</td>\n",
       "    </tr>\n",
       "    <tr>\n",
       "      <th>2</th>\n",
       "      <td>0.538166</td>\n",
       "      <td>0.643896</td>\n",
       "      <td>0.578462</td>\n",
       "      <td>0.638404</td>\n",
       "      <td>0.110242</td>\n",
       "      <td>0.563042</td>\n",
       "      <td>0.367639</td>\n",
       "      <td>0.360511</td>\n",
       "      <td>0.569916</td>\n",
       "      <td>0.599692</td>\n",
       "      <td>...</td>\n",
       "      <td>0.683672</td>\n",
       "      <td>0.672788</td>\n",
       "      <td>0.625621</td>\n",
       "      <td>0.216102</td>\n",
       "      <td>0.666392</td>\n",
       "      <td>0.699419</td>\n",
       "      <td>0.874407</td>\n",
       "      <td>0.219544</td>\n",
       "      <td>0.087656</td>\n",
       "      <td>0.655725</td>\n",
       "    </tr>\n",
       "    <tr>\n",
       "      <th>3</th>\n",
       "      <td>0.116689</td>\n",
       "      <td>0.41226</td>\n",
       "      <td>0.099546</td>\n",
       "      <td>0.814692</td>\n",
       "      <td>0.62798</td>\n",
       "      <td>0.198552</td>\n",
       "      <td>0.591836</td>\n",
       "      <td>0.771762</td>\n",
       "      <td>0.235033</td>\n",
       "      <td>0.660796</td>\n",
       "      <td>...</td>\n",
       "      <td>0.290242</td>\n",
       "      <td>0.398167</td>\n",
       "      <td>0.104158</td>\n",
       "      <td>0.640909</td>\n",
       "      <td>0.617797</td>\n",
       "      <td>0.921414</td>\n",
       "      <td>0.216312</td>\n",
       "      <td>0.669319</td>\n",
       "      <td>0.194315</td>\n",
       "      <td>0.714409</td>\n",
       "    </tr>\n",
       "    <tr>\n",
       "      <th>4</th>\n",
       "      <td>0.699887</td>\n",
       "      <td>0.790391</td>\n",
       "      <td>0.528282</td>\n",
       "      <td>0.176334</td>\n",
       "      <td>0.617755</td>\n",
       "      <td>0.630365</td>\n",
       "      <td>0.862357</td>\n",
       "      <td>0.864036</td>\n",
       "      <td>0.482442</td>\n",
       "      <td>0.064887</td>\n",
       "      <td>...</td>\n",
       "      <td>0.247681</td>\n",
       "      <td>0.93829</td>\n",
       "      <td>0.31517</td>\n",
       "      <td>0.379764</td>\n",
       "      <td>0.880987</td>\n",
       "      <td>0.64354</td>\n",
       "      <td>0.529868</td>\n",
       "      <td>0.342805</td>\n",
       "      <td>0.074177</td>\n",
       "      <td>0.4807</td>\n",
       "    </tr>\n",
       "  </tbody>\n",
       "</table>\n",
       "<p>5 rows × 334 columns</p>\n",
       "</div>"
      ],
      "text/plain": [
       "        0         1         2         3         4         5         6    \\\n",
       "0     0.111  0.080403  0.483287  0.432857  0.975439  0.391951  0.877127   \n",
       "1  0.574815  0.242076  0.878785  0.994903   0.39567  0.814133  0.999428   \n",
       "2  0.538166  0.643896  0.578462  0.638404  0.110242  0.563042  0.367639   \n",
       "3  0.116689   0.41226  0.099546  0.814692   0.62798  0.198552  0.591836   \n",
       "4  0.699887  0.790391  0.528282  0.176334  0.617755  0.630365  0.862357   \n",
       "\n",
       "        7         8         9    ...       324       325       326       327  \\\n",
       "0   0.04715  0.214523  0.023785  ...  0.701285   0.20853  0.157154  0.080031   \n",
       "1  0.472724  0.985837  0.553832  ...  0.091088  0.783534  0.863422  0.802006   \n",
       "2  0.360511  0.569916  0.599692  ...  0.683672  0.672788  0.625621  0.216102   \n",
       "3  0.771762  0.235033  0.660796  ...  0.290242  0.398167  0.104158  0.640909   \n",
       "4  0.864036  0.482442  0.064887  ...  0.247681   0.93829   0.31517  0.379764   \n",
       "\n",
       "        328       329       330       331       332       333  \n",
       "0  0.372745  0.017893  0.090897  0.045063  0.976453  0.275267  \n",
       "1  0.494876  0.795698  0.584191  0.611423  0.224766  0.402811  \n",
       "2  0.666392  0.699419  0.874407  0.219544  0.087656  0.655725  \n",
       "3  0.617797  0.921414  0.216312  0.669319  0.194315  0.714409  \n",
       "4  0.880987   0.64354  0.529868  0.342805  0.074177    0.4807  \n",
       "\n",
       "[5 rows x 334 columns]"
      ]
     },
     "execution_count": 32,
     "metadata": {},
     "output_type": "execute_result"
    }
   ],
   "source": [
    "newdf.T"
   ]
  },
  {
   "cell_type": "code",
   "execution_count": 33,
   "metadata": {},
   "outputs": [
    {
     "data": {
      "text/html": [
       "<div>\n",
       "<style scoped>\n",
       "    .dataframe tbody tr th:only-of-type {\n",
       "        vertical-align: middle;\n",
       "    }\n",
       "\n",
       "    .dataframe tbody tr th {\n",
       "        vertical-align: top;\n",
       "    }\n",
       "\n",
       "    .dataframe thead th {\n",
       "        text-align: right;\n",
       "    }\n",
       "</style>\n",
       "<table border=\"1\" class=\"dataframe\">\n",
       "  <thead>\n",
       "    <tr style=\"text-align: right;\">\n",
       "      <th></th>\n",
       "      <th>0</th>\n",
       "      <th>1</th>\n",
       "      <th>2</th>\n",
       "      <th>3</th>\n",
       "      <th>4</th>\n",
       "    </tr>\n",
       "  </thead>\n",
       "  <tbody>\n",
       "    <tr>\n",
       "      <th>0</th>\n",
       "      <td>0.111</td>\n",
       "      <td>0.574815</td>\n",
       "      <td>0.538166</td>\n",
       "      <td>0.116689</td>\n",
       "      <td>0.699887</td>\n",
       "    </tr>\n",
       "    <tr>\n",
       "      <th>1</th>\n",
       "      <td>0.080403</td>\n",
       "      <td>0.242076</td>\n",
       "      <td>0.643896</td>\n",
       "      <td>0.412260</td>\n",
       "      <td>0.790391</td>\n",
       "    </tr>\n",
       "    <tr>\n",
       "      <th>2</th>\n",
       "      <td>0.483287</td>\n",
       "      <td>0.878785</td>\n",
       "      <td>0.578462</td>\n",
       "      <td>0.099546</td>\n",
       "      <td>0.528282</td>\n",
       "    </tr>\n",
       "    <tr>\n",
       "      <th>3</th>\n",
       "      <td>0.432857</td>\n",
       "      <td>0.994903</td>\n",
       "      <td>0.638404</td>\n",
       "      <td>0.814692</td>\n",
       "      <td>0.176334</td>\n",
       "    </tr>\n",
       "    <tr>\n",
       "      <th>4</th>\n",
       "      <td>0.975439</td>\n",
       "      <td>0.395670</td>\n",
       "      <td>0.110242</td>\n",
       "      <td>0.627980</td>\n",
       "      <td>0.617755</td>\n",
       "    </tr>\n",
       "  </tbody>\n",
       "</table>\n",
       "</div>"
      ],
      "text/plain": [
       "          0         1         2         3         4\n",
       "0     0.111  0.574815  0.538166  0.116689  0.699887\n",
       "1  0.080403  0.242076  0.643896  0.412260  0.790391\n",
       "2  0.483287  0.878785  0.578462  0.099546  0.528282\n",
       "3  0.432857  0.994903  0.638404  0.814692  0.176334\n",
       "4  0.975439  0.395670  0.110242  0.627980  0.617755"
      ]
     },
     "execution_count": 33,
     "metadata": {},
     "output_type": "execute_result"
    }
   ],
   "source": [
    "newdf.head()"
   ]
  },
  {
   "cell_type": "code",
   "execution_count": 35,
   "metadata": {},
   "outputs": [
    {
     "data": {
      "text/html": [
       "<div>\n",
       "<style scoped>\n",
       "    .dataframe tbody tr th:only-of-type {\n",
       "        vertical-align: middle;\n",
       "    }\n",
       "\n",
       "    .dataframe tbody tr th {\n",
       "        vertical-align: top;\n",
       "    }\n",
       "\n",
       "    .dataframe thead th {\n",
       "        text-align: right;\n",
       "    }\n",
       "</style>\n",
       "<table border=\"1\" class=\"dataframe\">\n",
       "  <thead>\n",
       "    <tr style=\"text-align: right;\">\n",
       "      <th></th>\n",
       "      <th>0</th>\n",
       "      <th>1</th>\n",
       "      <th>2</th>\n",
       "      <th>3</th>\n",
       "      <th>4</th>\n",
       "    </tr>\n",
       "  </thead>\n",
       "  <tbody>\n",
       "    <tr>\n",
       "      <th>0</th>\n",
       "      <td>0.111</td>\n",
       "      <td>0.574815</td>\n",
       "      <td>0.538166</td>\n",
       "      <td>0.116689</td>\n",
       "      <td>0.699887</td>\n",
       "    </tr>\n",
       "    <tr>\n",
       "      <th>1</th>\n",
       "      <td>0.080403</td>\n",
       "      <td>0.242076</td>\n",
       "      <td>0.643896</td>\n",
       "      <td>0.412260</td>\n",
       "      <td>0.790391</td>\n",
       "    </tr>\n",
       "    <tr>\n",
       "      <th>2</th>\n",
       "      <td>0.483287</td>\n",
       "      <td>0.878785</td>\n",
       "      <td>0.578462</td>\n",
       "      <td>0.099546</td>\n",
       "      <td>0.528282</td>\n",
       "    </tr>\n",
       "    <tr>\n",
       "      <th>3</th>\n",
       "      <td>0.432857</td>\n",
       "      <td>0.994903</td>\n",
       "      <td>0.638404</td>\n",
       "      <td>0.814692</td>\n",
       "      <td>0.176334</td>\n",
       "    </tr>\n",
       "    <tr>\n",
       "      <th>4</th>\n",
       "      <td>0.975439</td>\n",
       "      <td>0.395670</td>\n",
       "      <td>0.110242</td>\n",
       "      <td>0.627980</td>\n",
       "      <td>0.617755</td>\n",
       "    </tr>\n",
       "    <tr>\n",
       "      <th>...</th>\n",
       "      <td>...</td>\n",
       "      <td>...</td>\n",
       "      <td>...</td>\n",
       "      <td>...</td>\n",
       "      <td>...</td>\n",
       "    </tr>\n",
       "    <tr>\n",
       "      <th>329</th>\n",
       "      <td>0.017893</td>\n",
       "      <td>0.795698</td>\n",
       "      <td>0.699419</td>\n",
       "      <td>0.921414</td>\n",
       "      <td>0.643540</td>\n",
       "    </tr>\n",
       "    <tr>\n",
       "      <th>330</th>\n",
       "      <td>0.090897</td>\n",
       "      <td>0.584191</td>\n",
       "      <td>0.874407</td>\n",
       "      <td>0.216312</td>\n",
       "      <td>0.529868</td>\n",
       "    </tr>\n",
       "    <tr>\n",
       "      <th>331</th>\n",
       "      <td>0.045063</td>\n",
       "      <td>0.611423</td>\n",
       "      <td>0.219544</td>\n",
       "      <td>0.669319</td>\n",
       "      <td>0.342805</td>\n",
       "    </tr>\n",
       "    <tr>\n",
       "      <th>332</th>\n",
       "      <td>0.976453</td>\n",
       "      <td>0.224766</td>\n",
       "      <td>0.087656</td>\n",
       "      <td>0.194315</td>\n",
       "      <td>0.074177</td>\n",
       "    </tr>\n",
       "    <tr>\n",
       "      <th>333</th>\n",
       "      <td>0.275267</td>\n",
       "      <td>0.402811</td>\n",
       "      <td>0.655725</td>\n",
       "      <td>0.714409</td>\n",
       "      <td>0.480700</td>\n",
       "    </tr>\n",
       "  </tbody>\n",
       "</table>\n",
       "<p>334 rows × 5 columns</p>\n",
       "</div>"
      ],
      "text/plain": [
       "            0         1         2         3         4\n",
       "0       0.111  0.574815  0.538166  0.116689  0.699887\n",
       "1    0.080403  0.242076  0.643896  0.412260  0.790391\n",
       "2    0.483287  0.878785  0.578462  0.099546  0.528282\n",
       "3    0.432857  0.994903  0.638404  0.814692  0.176334\n",
       "4    0.975439  0.395670  0.110242  0.627980  0.617755\n",
       "..        ...       ...       ...       ...       ...\n",
       "329  0.017893  0.795698  0.699419  0.921414  0.643540\n",
       "330  0.090897  0.584191  0.874407  0.216312  0.529868\n",
       "331  0.045063  0.611423  0.219544  0.669319  0.342805\n",
       "332  0.976453  0.224766  0.087656  0.194315  0.074177\n",
       "333  0.275267  0.402811  0.655725  0.714409  0.480700\n",
       "\n",
       "[334 rows x 5 columns]"
      ]
     },
     "execution_count": 35,
     "metadata": {},
     "output_type": "execute_result"
    }
   ],
   "source": [
    "newdf.sort_index(axis=0,ascending=True)"
   ]
  },
  {
   "cell_type": "code",
   "execution_count": 36,
   "metadata": {},
   "outputs": [
    {
     "data": {
      "text/plain": [
       "pandas.core.series.Series"
      ]
     },
     "execution_count": 36,
     "metadata": {},
     "output_type": "execute_result"
    }
   ],
   "source": [
    "type(newdf[0])"
   ]
  },
  {
   "cell_type": "markdown",
   "metadata": {},
   "source": [
    "### Views in Pandas"
   ]
  },
  {
   "cell_type": "code",
   "execution_count": 37,
   "metadata": {},
   "outputs": [
    {
     "name": "stderr",
     "output_type": "stream",
     "text": [
      "C:\\Users\\harsh\\AppData\\Local\\Temp\\ipykernel_30328\\3654261728.py:2: SettingWithCopyWarning: \n",
      "A value is trying to be set on a copy of a slice from a DataFrame\n",
      "\n",
      "See the caveats in the documentation: https://pandas.pydata.org/pandas-docs/stable/user_guide/indexing.html#returning-a-view-versus-a-copy\n",
      "  newdf2[0][0] = 2003\n"
     ]
    },
    {
     "data": {
      "text/html": [
       "<div>\n",
       "<style scoped>\n",
       "    .dataframe tbody tr th:only-of-type {\n",
       "        vertical-align: middle;\n",
       "    }\n",
       "\n",
       "    .dataframe tbody tr th {\n",
       "        vertical-align: top;\n",
       "    }\n",
       "\n",
       "    .dataframe thead th {\n",
       "        text-align: right;\n",
       "    }\n",
       "</style>\n",
       "<table border=\"1\" class=\"dataframe\">\n",
       "  <thead>\n",
       "    <tr style=\"text-align: right;\">\n",
       "      <th></th>\n",
       "      <th>0</th>\n",
       "      <th>1</th>\n",
       "      <th>2</th>\n",
       "      <th>3</th>\n",
       "      <th>4</th>\n",
       "    </tr>\n",
       "  </thead>\n",
       "  <tbody>\n",
       "    <tr>\n",
       "      <th>0</th>\n",
       "      <td>2003</td>\n",
       "      <td>0.574815</td>\n",
       "      <td>0.538166</td>\n",
       "      <td>0.116689</td>\n",
       "      <td>0.699887</td>\n",
       "    </tr>\n",
       "    <tr>\n",
       "      <th>1</th>\n",
       "      <td>0.080403</td>\n",
       "      <td>0.242076</td>\n",
       "      <td>0.643896</td>\n",
       "      <td>0.412260</td>\n",
       "      <td>0.790391</td>\n",
       "    </tr>\n",
       "    <tr>\n",
       "      <th>2</th>\n",
       "      <td>0.483287</td>\n",
       "      <td>0.878785</td>\n",
       "      <td>0.578462</td>\n",
       "      <td>0.099546</td>\n",
       "      <td>0.528282</td>\n",
       "    </tr>\n",
       "    <tr>\n",
       "      <th>3</th>\n",
       "      <td>0.432857</td>\n",
       "      <td>0.994903</td>\n",
       "      <td>0.638404</td>\n",
       "      <td>0.814692</td>\n",
       "      <td>0.176334</td>\n",
       "    </tr>\n",
       "    <tr>\n",
       "      <th>4</th>\n",
       "      <td>0.975439</td>\n",
       "      <td>0.395670</td>\n",
       "      <td>0.110242</td>\n",
       "      <td>0.627980</td>\n",
       "      <td>0.617755</td>\n",
       "    </tr>\n",
       "    <tr>\n",
       "      <th>...</th>\n",
       "      <td>...</td>\n",
       "      <td>...</td>\n",
       "      <td>...</td>\n",
       "      <td>...</td>\n",
       "      <td>...</td>\n",
       "    </tr>\n",
       "    <tr>\n",
       "      <th>329</th>\n",
       "      <td>0.017893</td>\n",
       "      <td>0.795698</td>\n",
       "      <td>0.699419</td>\n",
       "      <td>0.921414</td>\n",
       "      <td>0.643540</td>\n",
       "    </tr>\n",
       "    <tr>\n",
       "      <th>330</th>\n",
       "      <td>0.090897</td>\n",
       "      <td>0.584191</td>\n",
       "      <td>0.874407</td>\n",
       "      <td>0.216312</td>\n",
       "      <td>0.529868</td>\n",
       "    </tr>\n",
       "    <tr>\n",
       "      <th>331</th>\n",
       "      <td>0.045063</td>\n",
       "      <td>0.611423</td>\n",
       "      <td>0.219544</td>\n",
       "      <td>0.669319</td>\n",
       "      <td>0.342805</td>\n",
       "    </tr>\n",
       "    <tr>\n",
       "      <th>332</th>\n",
       "      <td>0.976453</td>\n",
       "      <td>0.224766</td>\n",
       "      <td>0.087656</td>\n",
       "      <td>0.194315</td>\n",
       "      <td>0.074177</td>\n",
       "    </tr>\n",
       "    <tr>\n",
       "      <th>333</th>\n",
       "      <td>0.275267</td>\n",
       "      <td>0.402811</td>\n",
       "      <td>0.655725</td>\n",
       "      <td>0.714409</td>\n",
       "      <td>0.480700</td>\n",
       "    </tr>\n",
       "  </tbody>\n",
       "</table>\n",
       "<p>334 rows × 5 columns</p>\n",
       "</div>"
      ],
      "text/plain": [
       "            0         1         2         3         4\n",
       "0        2003  0.574815  0.538166  0.116689  0.699887\n",
       "1    0.080403  0.242076  0.643896  0.412260  0.790391\n",
       "2    0.483287  0.878785  0.578462  0.099546  0.528282\n",
       "3    0.432857  0.994903  0.638404  0.814692  0.176334\n",
       "4    0.975439  0.395670  0.110242  0.627980  0.617755\n",
       "..        ...       ...       ...       ...       ...\n",
       "329  0.017893  0.795698  0.699419  0.921414  0.643540\n",
       "330  0.090897  0.584191  0.874407  0.216312  0.529868\n",
       "331  0.045063  0.611423  0.219544  0.669319  0.342805\n",
       "332  0.976453  0.224766  0.087656  0.194315  0.074177\n",
       "333  0.275267  0.402811  0.655725  0.714409  0.480700\n",
       "\n",
       "[334 rows x 5 columns]"
      ]
     },
     "execution_count": 37,
     "metadata": {},
     "output_type": "execute_result"
    }
   ],
   "source": [
    "newdf2 = newdf\n",
    "newdf2[0][0] = 2003\n",
    "newdf2"
   ]
  },
  {
   "cell_type": "code",
   "execution_count": 38,
   "metadata": {},
   "outputs": [],
   "source": [
    "newdf2 = newdf.copy()\n",
    "# now a copy is created"
   ]
  },
  {
   "cell_type": "code",
   "execution_count": 41,
   "metadata": {},
   "outputs": [
    {
     "data": {
      "text/html": [
       "<div>\n",
       "<style scoped>\n",
       "    .dataframe tbody tr th:only-of-type {\n",
       "        vertical-align: middle;\n",
       "    }\n",
       "\n",
       "    .dataframe tbody tr th {\n",
       "        vertical-align: top;\n",
       "    }\n",
       "\n",
       "    .dataframe thead th {\n",
       "        text-align: right;\n",
       "    }\n",
       "</style>\n",
       "<table border=\"1\" class=\"dataframe\">\n",
       "  <thead>\n",
       "    <tr style=\"text-align: right;\">\n",
       "      <th></th>\n",
       "      <th>0</th>\n",
       "      <th>1</th>\n",
       "      <th>2</th>\n",
       "      <th>3</th>\n",
       "      <th>4</th>\n",
       "    </tr>\n",
       "  </thead>\n",
       "  <tbody>\n",
       "    <tr>\n",
       "      <th>0</th>\n",
       "      <td>2005</td>\n",
       "      <td>0.574815</td>\n",
       "      <td>0.538166</td>\n",
       "      <td>0.116689</td>\n",
       "      <td>0.699887</td>\n",
       "    </tr>\n",
       "    <tr>\n",
       "      <th>1</th>\n",
       "      <td>0.080403</td>\n",
       "      <td>0.242076</td>\n",
       "      <td>0.643896</td>\n",
       "      <td>0.412260</td>\n",
       "      <td>0.790391</td>\n",
       "    </tr>\n",
       "  </tbody>\n",
       "</table>\n",
       "</div>"
      ],
      "text/plain": [
       "          0         1         2         3         4\n",
       "0      2005  0.574815  0.538166  0.116689  0.699887\n",
       "1  0.080403  0.242076  0.643896  0.412260  0.790391"
      ]
     },
     "execution_count": 41,
     "metadata": {},
     "output_type": "execute_result"
    }
   ],
   "source": [
    "newdf.loc[0,0] = 2005\n",
    "newdf.head(2)"
   ]
  },
  {
   "cell_type": "code",
   "execution_count": 42,
   "metadata": {},
   "outputs": [
    {
     "data": {
      "text/html": [
       "<div>\n",
       "<style scoped>\n",
       "    .dataframe tbody tr th:only-of-type {\n",
       "        vertical-align: middle;\n",
       "    }\n",
       "\n",
       "    .dataframe tbody tr th {\n",
       "        vertical-align: top;\n",
       "    }\n",
       "\n",
       "    .dataframe thead th {\n",
       "        text-align: right;\n",
       "    }\n",
       "</style>\n",
       "<table border=\"1\" class=\"dataframe\">\n",
       "  <thead>\n",
       "    <tr style=\"text-align: right;\">\n",
       "      <th></th>\n",
       "      <th>A</th>\n",
       "      <th>B</th>\n",
       "      <th>C</th>\n",
       "      <th>D</th>\n",
       "      <th>E</th>\n",
       "    </tr>\n",
       "  </thead>\n",
       "  <tbody>\n",
       "    <tr>\n",
       "      <th>0</th>\n",
       "      <td>2005</td>\n",
       "      <td>0.574815</td>\n",
       "      <td>0.538166</td>\n",
       "      <td>0.116689</td>\n",
       "      <td>0.699887</td>\n",
       "    </tr>\n",
       "    <tr>\n",
       "      <th>1</th>\n",
       "      <td>0.080403</td>\n",
       "      <td>0.242076</td>\n",
       "      <td>0.643896</td>\n",
       "      <td>0.412260</td>\n",
       "      <td>0.790391</td>\n",
       "    </tr>\n",
       "  </tbody>\n",
       "</table>\n",
       "</div>"
      ],
      "text/plain": [
       "          A         B         C         D         E\n",
       "0      2005  0.574815  0.538166  0.116689  0.699887\n",
       "1  0.080403  0.242076  0.643896  0.412260  0.790391"
      ]
     },
     "execution_count": 42,
     "metadata": {},
     "output_type": "execute_result"
    }
   ],
   "source": [
    "newdf.columns = list(\"ABCDE\")\n",
    "newdf.head(2)"
   ]
  },
  {
   "cell_type": "code",
   "execution_count": 44,
   "metadata": {},
   "outputs": [
    {
     "data": {
      "text/html": [
       "<div>\n",
       "<style scoped>\n",
       "    .dataframe tbody tr th:only-of-type {\n",
       "        vertical-align: middle;\n",
       "    }\n",
       "\n",
       "    .dataframe tbody tr th {\n",
       "        vertical-align: top;\n",
       "    }\n",
       "\n",
       "    .dataframe thead th {\n",
       "        text-align: right;\n",
       "    }\n",
       "</style>\n",
       "<table border=\"1\" class=\"dataframe\">\n",
       "  <thead>\n",
       "    <tr style=\"text-align: right;\">\n",
       "      <th></th>\n",
       "      <th>A</th>\n",
       "      <th>B</th>\n",
       "      <th>C</th>\n",
       "      <th>D</th>\n",
       "      <th>E</th>\n",
       "    </tr>\n",
       "  </thead>\n",
       "  <tbody>\n",
       "    <tr>\n",
       "      <th>0</th>\n",
       "      <td>2013</td>\n",
       "      <td>0.574815</td>\n",
       "      <td>0.538166</td>\n",
       "      <td>0.116689</td>\n",
       "      <td>0.699887</td>\n",
       "    </tr>\n",
       "    <tr>\n",
       "      <th>1</th>\n",
       "      <td>0.080403</td>\n",
       "      <td>0.242076</td>\n",
       "      <td>0.643896</td>\n",
       "      <td>0.412260</td>\n",
       "      <td>0.790391</td>\n",
       "    </tr>\n",
       "  </tbody>\n",
       "</table>\n",
       "</div>"
      ],
      "text/plain": [
       "          A         B         C         D         E\n",
       "0      2013  0.574815  0.538166  0.116689  0.699887\n",
       "1  0.080403  0.242076  0.643896  0.412260  0.790391"
      ]
     },
     "execution_count": 44,
     "metadata": {},
     "output_type": "execute_result"
    }
   ],
   "source": [
    "newdf.loc[0,'A'] = '2013'\n",
    "newdf.head(2)"
   ]
  },
  {
   "cell_type": "markdown",
   "metadata": {},
   "source": [
    "### Removing DATA in pandas\n",
    "\n",
    "df.drop(0, asix =1) # column\n",
    "\n",
    "df.drop(0, asix =0) # row"
   ]
  },
  {
   "cell_type": "code",
   "execution_count": 45,
   "metadata": {},
   "outputs": [
    {
     "data": {
      "text/html": [
       "<div>\n",
       "<style scoped>\n",
       "    .dataframe tbody tr th:only-of-type {\n",
       "        vertical-align: middle;\n",
       "    }\n",
       "\n",
       "    .dataframe tbody tr th {\n",
       "        vertical-align: top;\n",
       "    }\n",
       "\n",
       "    .dataframe thead th {\n",
       "        text-align: right;\n",
       "    }\n",
       "</style>\n",
       "<table border=\"1\" class=\"dataframe\">\n",
       "  <thead>\n",
       "    <tr style=\"text-align: right;\">\n",
       "      <th></th>\n",
       "      <th>C</th>\n",
       "      <th>D</th>\n",
       "    </tr>\n",
       "  </thead>\n",
       "  <tbody>\n",
       "    <tr>\n",
       "      <th>1</th>\n",
       "      <td>0.643896</td>\n",
       "      <td>0.412260</td>\n",
       "    </tr>\n",
       "    <tr>\n",
       "      <th>2</th>\n",
       "      <td>0.578462</td>\n",
       "      <td>0.099546</td>\n",
       "    </tr>\n",
       "  </tbody>\n",
       "</table>\n",
       "</div>"
      ],
      "text/plain": [
       "          C         D\n",
       "1  0.643896  0.412260\n",
       "2  0.578462  0.099546"
      ]
     },
     "execution_count": 45,
     "metadata": {},
     "output_type": "execute_result"
    }
   ],
   "source": [
    "newdf.loc[[1,2], ['C','D']]"
   ]
  },
  {
   "cell_type": "code",
   "execution_count": 46,
   "metadata": {},
   "outputs": [
    {
     "data": {
      "text/html": [
       "<div>\n",
       "<style scoped>\n",
       "    .dataframe tbody tr th:only-of-type {\n",
       "        vertical-align: middle;\n",
       "    }\n",
       "\n",
       "    .dataframe tbody tr th {\n",
       "        vertical-align: top;\n",
       "    }\n",
       "\n",
       "    .dataframe thead th {\n",
       "        text-align: right;\n",
       "    }\n",
       "</style>\n",
       "<table border=\"1\" class=\"dataframe\">\n",
       "  <thead>\n",
       "    <tr style=\"text-align: right;\">\n",
       "      <th></th>\n",
       "      <th>A</th>\n",
       "      <th>B</th>\n",
       "      <th>C</th>\n",
       "      <th>D</th>\n",
       "      <th>E</th>\n",
       "    </tr>\n",
       "  </thead>\n",
       "  <tbody>\n",
       "    <tr>\n",
       "      <th>1</th>\n",
       "      <td>0.080403</td>\n",
       "      <td>0.242076</td>\n",
       "      <td>0.643896</td>\n",
       "      <td>0.412260</td>\n",
       "      <td>0.790391</td>\n",
       "    </tr>\n",
       "    <tr>\n",
       "      <th>2</th>\n",
       "      <td>0.483287</td>\n",
       "      <td>0.878785</td>\n",
       "      <td>0.578462</td>\n",
       "      <td>0.099546</td>\n",
       "      <td>0.528282</td>\n",
       "    </tr>\n",
       "  </tbody>\n",
       "</table>\n",
       "</div>"
      ],
      "text/plain": [
       "          A         B         C         D         E\n",
       "1  0.080403  0.242076  0.643896  0.412260  0.790391\n",
       "2  0.483287  0.878785  0.578462  0.099546  0.528282"
      ]
     },
     "execution_count": 46,
     "metadata": {},
     "output_type": "execute_result"
    }
   ],
   "source": [
    "newdf.loc[:, ['C','D']] # Saari rows\n",
    "newdf.loc[[1,2], :] # Saari column"
   ]
  },
  {
   "cell_type": "markdown",
   "metadata": {},
   "source": [
    "#### Queries\n",
    "DataFrame.loc[Query]"
   ]
  },
  {
   "cell_type": "code",
   "execution_count": null,
   "metadata": {},
   "outputs": [],
   "source": [
    "# Accoding to CWH video but it doesn't work\n",
    "newdf.loc[(newdf['A']<0.3)]"
   ]
  },
  {
   "cell_type": "code",
   "execution_count": 53,
   "metadata": {},
   "outputs": [
    {
     "data": {
      "text/html": [
       "<div>\n",
       "<style scoped>\n",
       "    .dataframe tbody tr th:only-of-type {\n",
       "        vertical-align: middle;\n",
       "    }\n",
       "\n",
       "    .dataframe tbody tr th {\n",
       "        vertical-align: top;\n",
       "    }\n",
       "\n",
       "    .dataframe thead th {\n",
       "        text-align: right;\n",
       "    }\n",
       "</style>\n",
       "<table border=\"1\" class=\"dataframe\">\n",
       "  <thead>\n",
       "    <tr style=\"text-align: right;\">\n",
       "      <th></th>\n",
       "      <th>A</th>\n",
       "      <th>B</th>\n",
       "      <th>C</th>\n",
       "      <th>D</th>\n",
       "      <th>E</th>\n",
       "    </tr>\n",
       "  </thead>\n",
       "  <tbody>\n",
       "    <tr>\n",
       "      <th>1</th>\n",
       "      <td>0.080403</td>\n",
       "      <td>0.242076</td>\n",
       "      <td>0.643896</td>\n",
       "      <td>0.412260</td>\n",
       "      <td>0.790391</td>\n",
       "    </tr>\n",
       "    <tr>\n",
       "      <th>7</th>\n",
       "      <td>0.047150</td>\n",
       "      <td>0.472724</td>\n",
       "      <td>0.360511</td>\n",
       "      <td>0.771762</td>\n",
       "      <td>0.864036</td>\n",
       "    </tr>\n",
       "    <tr>\n",
       "      <th>8</th>\n",
       "      <td>0.214523</td>\n",
       "      <td>0.985837</td>\n",
       "      <td>0.569916</td>\n",
       "      <td>0.235033</td>\n",
       "      <td>0.482442</td>\n",
       "    </tr>\n",
       "    <tr>\n",
       "      <th>9</th>\n",
       "      <td>0.023785</td>\n",
       "      <td>0.553832</td>\n",
       "      <td>0.599692</td>\n",
       "      <td>0.660796</td>\n",
       "      <td>0.064887</td>\n",
       "    </tr>\n",
       "    <tr>\n",
       "      <th>10</th>\n",
       "      <td>0.062643</td>\n",
       "      <td>0.571742</td>\n",
       "      <td>0.715736</td>\n",
       "      <td>0.462184</td>\n",
       "      <td>0.695964</td>\n",
       "    </tr>\n",
       "    <tr>\n",
       "      <th>...</th>\n",
       "      <td>...</td>\n",
       "      <td>...</td>\n",
       "      <td>...</td>\n",
       "      <td>...</td>\n",
       "      <td>...</td>\n",
       "    </tr>\n",
       "    <tr>\n",
       "      <th>327</th>\n",
       "      <td>0.080031</td>\n",
       "      <td>0.802006</td>\n",
       "      <td>0.216102</td>\n",
       "      <td>0.640909</td>\n",
       "      <td>0.379764</td>\n",
       "    </tr>\n",
       "    <tr>\n",
       "      <th>329</th>\n",
       "      <td>0.017893</td>\n",
       "      <td>0.795698</td>\n",
       "      <td>0.699419</td>\n",
       "      <td>0.921414</td>\n",
       "      <td>0.643540</td>\n",
       "    </tr>\n",
       "    <tr>\n",
       "      <th>330</th>\n",
       "      <td>0.090897</td>\n",
       "      <td>0.584191</td>\n",
       "      <td>0.874407</td>\n",
       "      <td>0.216312</td>\n",
       "      <td>0.529868</td>\n",
       "    </tr>\n",
       "    <tr>\n",
       "      <th>331</th>\n",
       "      <td>0.045063</td>\n",
       "      <td>0.611423</td>\n",
       "      <td>0.219544</td>\n",
       "      <td>0.669319</td>\n",
       "      <td>0.342805</td>\n",
       "    </tr>\n",
       "    <tr>\n",
       "      <th>333</th>\n",
       "      <td>0.275267</td>\n",
       "      <td>0.402811</td>\n",
       "      <td>0.655725</td>\n",
       "      <td>0.714409</td>\n",
       "      <td>0.480700</td>\n",
       "    </tr>\n",
       "  </tbody>\n",
       "</table>\n",
       "<p>109 rows × 5 columns</p>\n",
       "</div>"
      ],
      "text/plain": [
       "            A         B         C         D         E\n",
       "1    0.080403  0.242076  0.643896  0.412260  0.790391\n",
       "7    0.047150  0.472724  0.360511  0.771762  0.864036\n",
       "8    0.214523  0.985837  0.569916  0.235033  0.482442\n",
       "9    0.023785  0.553832  0.599692  0.660796  0.064887\n",
       "10   0.062643  0.571742  0.715736  0.462184  0.695964\n",
       "..        ...       ...       ...       ...       ...\n",
       "327  0.080031  0.802006  0.216102  0.640909  0.379764\n",
       "329  0.017893  0.795698  0.699419  0.921414  0.643540\n",
       "330  0.090897  0.584191  0.874407  0.216312  0.529868\n",
       "331  0.045063  0.611423  0.219544  0.669319  0.342805\n",
       "333  0.275267  0.402811  0.655725  0.714409  0.480700\n",
       "\n",
       "[109 rows x 5 columns]"
      ]
     },
     "execution_count": 53,
     "metadata": {},
     "output_type": "execute_result"
    }
   ],
   "source": [
    "newdf['A'] = pd.to_numeric(newdf['A'], errors='coerce')  # Convert 'A' column to numeric, setting non-numeric values to NaN\n",
    "result = newdf.loc[newdf['A'] < 0.3]\n",
    "result\n"
   ]
  },
  {
   "cell_type": "code",
   "execution_count": 54,
   "metadata": {},
   "outputs": [
    {
     "data": {
      "text/html": [
       "<div>\n",
       "<style scoped>\n",
       "    .dataframe tbody tr th:only-of-type {\n",
       "        vertical-align: middle;\n",
       "    }\n",
       "\n",
       "    .dataframe tbody tr th {\n",
       "        vertical-align: top;\n",
       "    }\n",
       "\n",
       "    .dataframe thead th {\n",
       "        text-align: right;\n",
       "    }\n",
       "</style>\n",
       "<table border=\"1\" class=\"dataframe\">\n",
       "  <thead>\n",
       "    <tr style=\"text-align: right;\">\n",
       "      <th></th>\n",
       "      <th>A</th>\n",
       "      <th>B</th>\n",
       "      <th>C</th>\n",
       "      <th>D</th>\n",
       "      <th>E</th>\n",
       "    </tr>\n",
       "  </thead>\n",
       "  <tbody>\n",
       "    <tr>\n",
       "      <th>0</th>\n",
       "      <td>2013.000000</td>\n",
       "      <td>0.574815</td>\n",
       "      <td>0.538166</td>\n",
       "      <td>0.116689</td>\n",
       "      <td>0.699887</td>\n",
       "    </tr>\n",
       "    <tr>\n",
       "      <th>1</th>\n",
       "      <td>0.080403</td>\n",
       "      <td>0.242076</td>\n",
       "      <td>0.643896</td>\n",
       "      <td>0.412260</td>\n",
       "      <td>0.790391</td>\n",
       "    </tr>\n",
       "  </tbody>\n",
       "</table>\n",
       "</div>"
      ],
      "text/plain": [
       "             A         B         C         D         E\n",
       "0  2013.000000  0.574815  0.538166  0.116689  0.699887\n",
       "1     0.080403  0.242076  0.643896  0.412260  0.790391"
      ]
     },
     "execution_count": 54,
     "metadata": {},
     "output_type": "execute_result"
    }
   ],
   "source": [
    "newdf.head(2)"
   ]
  },
  {
   "cell_type": "code",
   "execution_count": 55,
   "metadata": {},
   "outputs": [
    {
     "data": {
      "text/plain": [
       "0.6998871928862739"
      ]
     },
     "execution_count": 55,
     "metadata": {},
     "output_type": "execute_result"
    }
   ],
   "source": [
    "newdf.iloc[0,4]"
   ]
  },
  {
   "cell_type": "code",
   "execution_count": 57,
   "metadata": {},
   "outputs": [
    {
     "data": {
      "text/html": [
       "<div>\n",
       "<style scoped>\n",
       "    .dataframe tbody tr th:only-of-type {\n",
       "        vertical-align: middle;\n",
       "    }\n",
       "\n",
       "    .dataframe tbody tr th {\n",
       "        vertical-align: top;\n",
       "    }\n",
       "\n",
       "    .dataframe thead th {\n",
       "        text-align: right;\n",
       "    }\n",
       "</style>\n",
       "<table border=\"1\" class=\"dataframe\">\n",
       "  <thead>\n",
       "    <tr style=\"text-align: right;\">\n",
       "      <th></th>\n",
       "      <th>C</th>\n",
       "      <th>D</th>\n",
       "    </tr>\n",
       "  </thead>\n",
       "  <tbody>\n",
       "    <tr>\n",
       "      <th>1</th>\n",
       "      <td>0.643896</td>\n",
       "      <td>0.412260</td>\n",
       "    </tr>\n",
       "    <tr>\n",
       "      <th>2</th>\n",
       "      <td>0.578462</td>\n",
       "      <td>0.099546</td>\n",
       "    </tr>\n",
       "  </tbody>\n",
       "</table>\n",
       "</div>"
      ],
      "text/plain": [
       "          C         D\n",
       "1  0.643896  0.412260\n",
       "2  0.578462  0.099546"
      ]
     },
     "execution_count": 57,
     "metadata": {},
     "output_type": "execute_result"
    }
   ],
   "source": [
    "#iloc me numbers se kaam ho jaega\n",
    "newdf.iloc[[1,2],[2,3]]\n",
    "#Loc me row or column ke naam dene padenge"
   ]
  },
  {
   "cell_type": "code",
   "execution_count": 58,
   "metadata": {},
   "outputs": [
    {
     "data": {
      "text/html": [
       "<div>\n",
       "<style scoped>\n",
       "    .dataframe tbody tr th:only-of-type {\n",
       "        vertical-align: middle;\n",
       "    }\n",
       "\n",
       "    .dataframe tbody tr th {\n",
       "        vertical-align: top;\n",
       "    }\n",
       "\n",
       "    .dataframe thead th {\n",
       "        text-align: right;\n",
       "    }\n",
       "</style>\n",
       "<table border=\"1\" class=\"dataframe\">\n",
       "  <thead>\n",
       "    <tr style=\"text-align: right;\">\n",
       "      <th></th>\n",
       "      <th>C</th>\n",
       "      <th>D</th>\n",
       "      <th>E</th>\n",
       "    </tr>\n",
       "  </thead>\n",
       "  <tbody>\n",
       "    <tr>\n",
       "      <th>0</th>\n",
       "      <td>0.538166</td>\n",
       "      <td>0.116689</td>\n",
       "      <td>0.699887</td>\n",
       "    </tr>\n",
       "    <tr>\n",
       "      <th>1</th>\n",
       "      <td>0.643896</td>\n",
       "      <td>0.412260</td>\n",
       "      <td>0.790391</td>\n",
       "    </tr>\n",
       "    <tr>\n",
       "      <th>2</th>\n",
       "      <td>0.578462</td>\n",
       "      <td>0.099546</td>\n",
       "      <td>0.528282</td>\n",
       "    </tr>\n",
       "    <tr>\n",
       "      <th>3</th>\n",
       "      <td>0.638404</td>\n",
       "      <td>0.814692</td>\n",
       "      <td>0.176334</td>\n",
       "    </tr>\n",
       "    <tr>\n",
       "      <th>4</th>\n",
       "      <td>0.110242</td>\n",
       "      <td>0.627980</td>\n",
       "      <td>0.617755</td>\n",
       "    </tr>\n",
       "    <tr>\n",
       "      <th>...</th>\n",
       "      <td>...</td>\n",
       "      <td>...</td>\n",
       "      <td>...</td>\n",
       "    </tr>\n",
       "    <tr>\n",
       "      <th>329</th>\n",
       "      <td>0.699419</td>\n",
       "      <td>0.921414</td>\n",
       "      <td>0.643540</td>\n",
       "    </tr>\n",
       "    <tr>\n",
       "      <th>330</th>\n",
       "      <td>0.874407</td>\n",
       "      <td>0.216312</td>\n",
       "      <td>0.529868</td>\n",
       "    </tr>\n",
       "    <tr>\n",
       "      <th>331</th>\n",
       "      <td>0.219544</td>\n",
       "      <td>0.669319</td>\n",
       "      <td>0.342805</td>\n",
       "    </tr>\n",
       "    <tr>\n",
       "      <th>332</th>\n",
       "      <td>0.087656</td>\n",
       "      <td>0.194315</td>\n",
       "      <td>0.074177</td>\n",
       "    </tr>\n",
       "    <tr>\n",
       "      <th>333</th>\n",
       "      <td>0.655725</td>\n",
       "      <td>0.714409</td>\n",
       "      <td>0.480700</td>\n",
       "    </tr>\n",
       "  </tbody>\n",
       "</table>\n",
       "<p>334 rows × 3 columns</p>\n",
       "</div>"
      ],
      "text/plain": [
       "            C         D         E\n",
       "0    0.538166  0.116689  0.699887\n",
       "1    0.643896  0.412260  0.790391\n",
       "2    0.578462  0.099546  0.528282\n",
       "3    0.638404  0.814692  0.176334\n",
       "4    0.110242  0.627980  0.617755\n",
       "..        ...       ...       ...\n",
       "329  0.699419  0.921414  0.643540\n",
       "330  0.874407  0.216312  0.529868\n",
       "331  0.219544  0.669319  0.342805\n",
       "332  0.087656  0.194315  0.074177\n",
       "333  0.655725  0.714409  0.480700\n",
       "\n",
       "[334 rows x 3 columns]"
      ]
     },
     "execution_count": 58,
     "metadata": {},
     "output_type": "execute_result"
    }
   ],
   "source": [
    "newdf.drop(['A','B'], axis=1 , inplace=True)\n",
    "#inplace will make the change to original data"
   ]
  },
  {
   "cell_type": "code",
   "execution_count": null,
   "metadata": {},
   "outputs": [],
   "source": [
    "newdf.reset_index() #Resets the index\n",
    "newdf.reset_index(drop = true) #Resets the index and ddrops previos index\n",
    "newdf.reset_index(drop = true, inplace= true) #Resets the index and ddrops previos index also change the original data"
   ]
  },
  {
   "cell_type": "code",
   "execution_count": 59,
   "metadata": {},
   "outputs": [
    {
     "data": {
      "text/plain": [
       "0      False\n",
       "1      False\n",
       "2      False\n",
       "3      False\n",
       "4      False\n",
       "       ...  \n",
       "329    False\n",
       "330    False\n",
       "331    False\n",
       "332    False\n",
       "333    False\n",
       "Name: B, Length: 334, dtype: bool"
      ]
     },
     "execution_count": 59,
     "metadata": {},
     "output_type": "execute_result"
    }
   ],
   "source": [
    "newdf['B'].isnull()  #finds whiich index values holds the null valuuue"
   ]
  },
  {
   "cell_type": "code",
   "execution_count": 60,
   "metadata": {},
   "outputs": [],
   "source": [
    "df = pd.DataFrame({\"name\": ['divyat','arshita','arin'],\n",
    "\"toy\": [np.nan,'Batmobile','bullwhip'],\n",
    "\"Born\":[pd.NaT, pd.Timestamp(\"2005,06,03\"),pd.NaT]})"
   ]
  },
  {
   "cell_type": "code",
   "execution_count": 61,
   "metadata": {},
   "outputs": [
    {
     "data": {
      "text/html": [
       "<div>\n",
       "<style scoped>\n",
       "    .dataframe tbody tr th:only-of-type {\n",
       "        vertical-align: middle;\n",
       "    }\n",
       "\n",
       "    .dataframe tbody tr th {\n",
       "        vertical-align: top;\n",
       "    }\n",
       "\n",
       "    .dataframe thead th {\n",
       "        text-align: right;\n",
       "    }\n",
       "</style>\n",
       "<table border=\"1\" class=\"dataframe\">\n",
       "  <thead>\n",
       "    <tr style=\"text-align: right;\">\n",
       "      <th></th>\n",
       "      <th>name</th>\n",
       "      <th>toy</th>\n",
       "      <th>Born</th>\n",
       "    </tr>\n",
       "  </thead>\n",
       "  <tbody>\n",
       "    <tr>\n",
       "      <th>0</th>\n",
       "      <td>divyat</td>\n",
       "      <td>NaN</td>\n",
       "      <td>NaT</td>\n",
       "    </tr>\n",
       "    <tr>\n",
       "      <th>1</th>\n",
       "      <td>arshita</td>\n",
       "      <td>Batmobile</td>\n",
       "      <td>2005-03-01</td>\n",
       "    </tr>\n",
       "    <tr>\n",
       "      <th>2</th>\n",
       "      <td>arin</td>\n",
       "      <td>bullwhip</td>\n",
       "      <td>NaT</td>\n",
       "    </tr>\n",
       "  </tbody>\n",
       "</table>\n",
       "</div>"
      ],
      "text/plain": [
       "      name        toy       Born\n",
       "0   divyat        NaN        NaT\n",
       "1  arshita  Batmobile 2005-03-01\n",
       "2     arin   bullwhip        NaT"
      ]
     },
     "execution_count": 61,
     "metadata": {},
     "output_type": "execute_result"
    }
   ],
   "source": [
    "df"
   ]
  },
  {
   "cell_type": "code",
   "execution_count": 63,
   "metadata": {},
   "outputs": [
    {
     "data": {
      "text/html": [
       "<div>\n",
       "<style scoped>\n",
       "    .dataframe tbody tr th:only-of-type {\n",
       "        vertical-align: middle;\n",
       "    }\n",
       "\n",
       "    .dataframe tbody tr th {\n",
       "        vertical-align: top;\n",
       "    }\n",
       "\n",
       "    .dataframe thead th {\n",
       "        text-align: right;\n",
       "    }\n",
       "</style>\n",
       "<table border=\"1\" class=\"dataframe\">\n",
       "  <thead>\n",
       "    <tr style=\"text-align: right;\">\n",
       "      <th></th>\n",
       "      <th>name</th>\n",
       "      <th>toy</th>\n",
       "      <th>Born</th>\n",
       "    </tr>\n",
       "  </thead>\n",
       "  <tbody>\n",
       "    <tr>\n",
       "      <th>1</th>\n",
       "      <td>arshita</td>\n",
       "      <td>Batmobile</td>\n",
       "      <td>2005-03-01</td>\n",
       "    </tr>\n",
       "  </tbody>\n",
       "</table>\n",
       "</div>"
      ],
      "text/plain": [
       "      name        toy       Born\n",
       "1  arshita  Batmobile 2005-03-01"
      ]
     },
     "execution_count": 63,
     "metadata": {},
     "output_type": "execute_result"
    }
   ],
   "source": [
    "df.dropna()\n",
    "df.dropna(how='all') #removes if all field null"
   ]
  },
  {
   "cell_type": "code",
   "execution_count": null,
   "metadata": {},
   "outputs": [],
   "source": [
    "df.drop_duplicates(subset=['Column/row name'],keep=\"first|last|false\")"
   ]
  },
  {
   "cell_type": "code",
   "execution_count": null,
   "metadata": {},
   "outputs": [],
   "source": [
    "df.shape()\n",
    "df.info()"
   ]
  },
  {
   "cell_type": "code",
   "execution_count": null,
   "metadata": {},
   "outputs": [],
   "source": [
    "#counting unique\n",
    "df['name'].value_counts(dropna=False)\n",
    "#seting false count NA \n",
    "#seting true skips  NA "
   ]
  },
  {
   "cell_type": "code",
   "execution_count": null,
   "metadata": {},
   "outputs": [],
   "source": [
    "df.isnull()\n",
    "df.notnull()"
   ]
  }
 ],
 "metadata": {
  "kernelspec": {
   "display_name": "Python 3",
   "language": "python",
   "name": "python3"
  },
  "language_info": {
   "codemirror_mode": {
    "name": "ipython",
    "version": 3
   },
   "file_extension": ".py",
   "mimetype": "text/x-python",
   "name": "python",
   "nbconvert_exporter": "python",
   "pygments_lexer": "ipython3",
   "version": "3.11.2"
  }
 },
 "nbformat": 4,
 "nbformat_minor": 2
}

{
 "cells": [
  {
   "cell_type": "code",
   "execution_count": 1,
   "metadata": {},
   "outputs": [],
   "source": [
    "import numpy as np"
   ]
  },
  {
   "cell_type": "markdown",
   "metadata": {},
   "source": [
    "# Arrays\n",
    "A numpy array is a grid of values, all of the same type, and is indexed by a tuple of nonnegative\n",
    "integers. \n",
    "The number of dimensions is the rank of the array; \n",
    "The shape of an array is a tuple of\n",
    "integers giving the size of the array along each dimension"
   ]
  },
  {
   "cell_type": "code",
   "execution_count": 9,
   "metadata": {},
   "outputs": [
    {
     "name": "stdout",
     "output_type": "stream",
     "text": [
      "<class 'numpy.ndarray'> (3,) 1 2 3\n",
      "[5 2 3]\n",
      "\n",
      "[[1 2 3]\n",
      " [4 5 6]]\n",
      "(2, 3)\n",
      "1 2 4\n"
     ]
    }
   ],
   "source": [
    "a = np.array([1, 2, 3]) # Create a rank 1 array\n",
    "print(type(a), a.shape, a[0], a[1], a[2])\n",
    "a[0] = 5 # Change an element of the array\n",
    "print(a)\n",
    "\n",
    "b = np.array([[1,2,3],[4,5,6]]) # Create a rank 2 array\n",
    "print(f'\\n{b}')\n",
    "print(b.shape)\n",
    "print(b[0, 0], b[0, 1], b[1, 0])\n"
   ]
  },
  {
   "cell_type": "code",
   "execution_count": 57,
   "metadata": {},
   "outputs": [
    {
     "name": "stdout",
     "output_type": "stream",
     "text": [
      "[[0. 0.]\n",
      " [0. 0.]]\n",
      "[[1. 1.]\n",
      " [1. 1.]]\n",
      "[[7 7]\n",
      " [7 7]]\n",
      "[[1. 0. 0.]\n",
      " [0. 1. 0.]\n",
      " [0. 0. 1.]]\n",
      "[[0.6942243  0.97200486]\n",
      " [0.05464648 0.88103149]]\n",
      "[[0 1]\n",
      " [4 7]]\n"
     ]
    }
   ],
   "source": [
    "#Creating Numpyarray of zeros\n",
    "a = np.zeros((2,2)) # Create an array of all zeros\n",
    "print(a)\n",
    "\n",
    "#Creating Numpyarray of ones\n",
    "b = np.ones((2,2)) # Create an array of all ones\n",
    "print(b)\n",
    "\n",
    "#Creating Numpyarray of const value\n",
    "c = np.full((2,2), 7) # Create a constant array\n",
    "print(c)\n",
    "\n",
    "#Creating Numpyarray of identity matrix\n",
    "d = np.eye(3,3) # Create a 2x2 identity matrix\n",
    "print(d)\n",
    "\n",
    "#Creating Numpyarray of random matrix\n",
    "e = np.random.random((2,2)) # Create an array filled with random values\n",
    "print(e)\n",
    "\n",
    "#Creating Numpyarray of random int matrix\n",
    "f = np.random.randint(10,size=(2,2)) # Create an array filled with random values\n",
    "print(f)"
   ]
  },
  {
   "cell_type": "markdown",
   "metadata": {},
   "source": [
    "## iterating np array"
   ]
  },
  {
   "cell_type": "code",
   "execution_count": null,
   "metadata": {},
   "outputs": [],
   "source": [
    "import numpy as np\n",
    "\n",
    "a = np.array([[1, 2], [3, 4], [5, 6]])\n",
    "\n",
    "# Iterate through each element in the array\n",
    "for row in a:\n",
    "    for element in row:\n",
    "        print(element)\n"
   ]
  },
  {
   "cell_type": "markdown",
   "metadata": {},
   "source": [
    "## Array Indexing\n",
    "Slicing: Similar to Python lists, numpy arrays can be sliced. Since arrays may be multidimensional,\n",
    "you must specify a slice for each dimension of the array:\n"
   ]
  },
  {
   "cell_type": "code",
   "execution_count": 54,
   "metadata": {},
   "outputs": [
    {
     "name": "stdout",
     "output_type": "stream",
     "text": [
      "[[2 3]\n",
      " [6 7]]\n"
     ]
    }
   ],
   "source": [
    "a = np.array([[1,2,3,4], [5,6,7,8], [9,10,11,12]])\n",
    "b = a[:2, 1:-1]\n",
    "print(b)\n",
    "\n",
    "#A slice of an array is a view into the same data, so modifying it will modify the original array."
   ]
  },
  {
   "cell_type": "markdown",
   "metadata": {},
   "source": [
    "## np.arnage\n",
    "The numpy.arange() function is used to generate an array with evenly spaced values within a specified interval. The function returns a one-dimensional array of type numpy.ndarray."
   ]
  },
  {
   "cell_type": "markdown",
   "metadata": {},
   "source": [
    "Parameters : \n",
    "\n",
    "1) start : [optional] start of interval range. By default start = 0\n",
    "2) stop  : end of interval range\n",
    "3) step  : [optional] step size of interval. By default step size = 1,  \n",
    "For any output out, this is the distance between two adjacent values, out[i+1] - out[i]. \n",
    "4) dtype : type of output array\n",
    "\n",
    "Return: \n",
    "\n",
    "1) Array of evenly spaced values.\n",
    "2) Length of array being generated  = Ceil((Stop - Start) / Step) "
   ]
  },
  {
   "cell_type": "code",
   "execution_count": 1,
   "metadata": {},
   "outputs": [
    {
     "name": "stdout",
     "output_type": "stream",
     "text": [
      "A\n",
      " [[0 1]\n",
      " [2 3]] \n",
      "\n",
      "A\n",
      " [4 5 6 7 8 9] \n",
      "\n",
      "A\n",
      " [ 4  7 10 13 16 19] \n",
      "\n"
     ]
    }
   ],
   "source": [
    "# numpy.arange method\n",
    " \n",
    "import numpy as geek\n",
    " \n",
    "print(\"A\\n\", geek.arange(4).reshape(2, 2), \"\\n\")\n",
    "print(\"A\\n\", geek.arange(4, 10), \"\\n\")\n",
    "print(\"A\\n\", geek.arange(4, 20, 3), \"\\n\")\n"
   ]
  },
  {
   "cell_type": "code",
   "execution_count": 43,
   "metadata": {},
   "outputs": [
    {
     "name": "stdout",
     "output_type": "stream",
     "text": [
      "[[False False]\n",
      " [ True  True]\n",
      " [ True  True]]\n",
      "[[False False]\n",
      " [ True  True]\n",
      " [ True False]]\n"
     ]
    }
   ],
   "source": [
    "a = np.array([[1,2], [3, 4], [5, 6]])\n",
    "bool_idx = (a > 2) # Find the elements of a that are bigger than 2;\n",
    "# this returns a numpy array of Booleans of the same\n",
    "# shape as a, where each slot of bool_idx tells\n",
    "# whether that element of a is > 2.\n",
    "print (bool_idx)\n",
    "\n",
    "#arr[arr>5]=0"
   ]
  },
  {
   "cell_type": "code",
   "execution_count": 67,
   "metadata": {},
   "outputs": [
    {
     "name": "stdout",
     "output_type": "stream",
     "text": [
      "[[0 0]\n",
      " [3 4]\n",
      " [5 6]]\n"
     ]
    }
   ],
   "source": [
    "import numpy as np\n",
    "\n",
    "a = np.array([[1, 2], [3, 4], [5, 6]])\n",
    "\n",
    "# Use NumPy's vectorized operations to compare and assign values\n",
    "a[a > 2] = 1\n",
    "a[a <= 2] = 0 # this is overwriting above value\n",
    "\n",
    "print(a)\n"
   ]
  },
  {
   "cell_type": "code",
   "execution_count": 68,
   "metadata": {},
   "outputs": [
    {
     "name": "stdout",
     "output_type": "stream",
     "text": [
      "[[0 0]\n",
      " [1 1]\n",
      " [1 1]]\n"
     ]
    }
   ],
   "source": [
    "a = np.array([[1, 2], [3, 4], [5, 6]])\n",
    "\n",
    "# Use np.where to conditionally assign values\n",
    "a = np.where(a > 2, 1, 0)\n",
    "\n",
    "print(a)\n"
   ]
  },
  {
   "cell_type": "markdown",
   "metadata": {},
   "source": [
    "## Forcing datatype in numpy arrya"
   ]
  },
  {
   "cell_type": "code",
   "execution_count": null,
   "metadata": {},
   "outputs": [],
   "source": [
    "x = np.array([1, 2]) # Let numpy choose the datatype\n",
    "y = np.array([1.0, 2.0]) # Let numpy choose the datatype\n",
    "z = np.array([1, 2], dtype=np.int64) # Force a particular datatype\n",
    "print (x.dtype, y.dtype, z.dtype)"
   ]
  },
  {
   "cell_type": "markdown",
   "metadata": {},
   "source": [
    "## operations on the numpy array"
   ]
  },
  {
   "cell_type": "code",
   "execution_count": null,
   "metadata": {},
   "outputs": [],
   "source": [
    "x = np.array([[1,2],[3,4]], dtype=np.float64)\n",
    "y = np.array([[5,6],[7,8]], dtype=np.float64)\n",
    "# Elementwise sum; both produce the array\n",
    "print x + y\n",
    "print np.add(x, y)\n",
    "\n",
    "# Elementwise difference; both produce the array\n",
    "print x - y\n",
    "print np.subtract(x, y)\n",
    "\n",
    "# Elementwise product; both produce the array\n",
    "print x * y\n",
    "print np.multiply(x, y)\n",
    "\n",
    "# Elementwise division; both produce the array\n",
    "# [[ 0.2 0.33333333]\n",
    "# [ 0.42857143 0.5 ]]\n",
    "print x / y\n",
    "print np.divide(x, y)\n"
   ]
  },
  {
   "cell_type": "code",
   "execution_count": 69,
   "metadata": {},
   "outputs": [
    {
     "name": "stdout",
     "output_type": "stream",
     "text": [
      "Original array: [9 5 2 7 1 8 3 6 4]\n",
      "Sorted array: [1 2 3 4 5 6 7 8 9]\n",
      "Original 2D array:\n",
      "[[9 5 2]\n",
      " [7 1 8]\n",
      " [3 6 4]]\n",
      "\n",
      "Sorted 2D array along rows:\n",
      "[[2 5 9]\n",
      " [1 7 8]\n",
      " [3 4 6]]\n",
      "\n",
      "Sorted 2D array along columns:\n",
      "[[3 1 2]\n",
      " [7 5 4]\n",
      " [9 6 8]]\n",
      "\n",
      "Sorted 2D array flaten:\n",
      "[1 2 3 4 5 6 7 8 9]\n"
     ]
    }
   ],
   "source": [
    "arr = np.array([9, 5, 2, 7, 1, 8, 3, 6, 4])\n",
    "# Sort the array in ascending order\n",
    "sorted_arr = np.sort(arr)\n",
    "print(\"Original array:\", arr)\n",
    "print(\"Sorted array:\", sorted_arr)\n",
    "\n",
    "\n",
    "# Create a 2D NumPy array\n",
    "arr_2d = np.array([[9, 5, 2],\n",
    "[7, 1, 8],\n",
    "[3, 6, 4]])\n",
    "# Sort the 2D array along rows (axis=1)\n",
    "sorted_arr_row = np.sort(arr_2d, axis=1)\n",
    "# Sort the 2D array along columns (axis=0)\n",
    "sorted_arr_col = np.sort(arr_2d, axis=0)\n",
    "10\n",
    "# sort the flattened array\n",
    "sorted_arr_flat = np.sort(arr_2d, axis=None)\n",
    "print(\"Original 2D array:\")\n",
    "print(arr_2d)\n",
    "print(\"\\nSorted 2D array along rows:\")\n",
    "print(sorted_arr_row)\n",
    "print(\"\\nSorted 2D array along columns:\")\n",
    "print(sorted_arr_col)\n",
    "print(\"\\nSorted 2D array flaten:\")\n",
    "print(sorted_arr_flat)"
   ]
  },
  {
   "cell_type": "markdown",
   "metadata": {},
   "source": [
    "# Stack"
   ]
  },
  {
   "cell_type": "code",
   "execution_count": 41,
   "metadata": {},
   "outputs": [
    {
     "name": "stdout",
     "output_type": "stream",
     "text": [
      "[[[8 8]\n",
      "  [8 4]]\n",
      "\n",
      " [[2 8]\n",
      "  [8 4]]]\n"
     ]
    },
    {
     "data": {
      "text/plain": [
       "array([[[2, 8],\n",
       "        [8, 4]]])"
      ]
     },
     "execution_count": 41,
     "metadata": {},
     "output_type": "execute_result"
    }
   ],
   "source": [
    "arr1 = np.random.randint(10,size=(2,2))\n",
    "arr2 = np.random.randint(10,size=(2,2))\n",
    "\n",
    "arr3 = np.stack((arr1,arr2),axis=0)\n",
    "print(arr3)\n",
    "\n",
    "arr4 = np.array_split(arr3,2)\n",
    "arr4[1]\n"
   ]
  },
  {
   "cell_type": "markdown",
   "metadata": {},
   "source": [
    "# Transpose"
   ]
  },
  {
   "cell_type": "code",
   "execution_count": 44,
   "metadata": {},
   "outputs": [
    {
     "name": "stdout",
     "output_type": "stream",
     "text": [
      "[[1 8 7]\n",
      " [0 7 5]]\n"
     ]
    }
   ],
   "source": [
    "arr = np.random.randint(10,size=(3,2))\n",
    "print(arr)\n",
    "arr2 = np.transpose(arr)\n",
    "print(arr2)"
   ]
  },
  {
   "cell_type": "markdown",
   "metadata": {},
   "source": [
    "# diagonal"
   ]
  },
  {
   "cell_type": "code",
   "execution_count": 76,
   "metadata": {},
   "outputs": [
    {
     "name": "stdout",
     "output_type": "stream",
     "text": [
      "[1 5 9]\n"
     ]
    }
   ],
   "source": [
    "m = np.array([[1,2,3],[4,5,6],[7,8,9]])\n",
    "n  = np.diagonal(m)\n",
    "print(n)"
   ]
  }
 ],
 "metadata": {
  "kernelspec": {
   "display_name": "Python 3",
   "language": "python",
   "name": "python3"
  },
  "language_info": {
   "codemirror_mode": {
    "name": "ipython",
    "version": 3
   },
   "file_extension": ".py",
   "mimetype": "text/x-python",
   "name": "python",
   "nbconvert_exporter": "python",
   "pygments_lexer": "ipython3",
   "version": "3.11.2"
  },
  "orig_nbformat": 4
 },
 "nbformat": 4,
 "nbformat_minor": 2
}
